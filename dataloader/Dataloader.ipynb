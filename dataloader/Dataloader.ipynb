{
 "cells": [
  {
   "cell_type": "code",
   "execution_count": 265,
   "metadata": {},
   "outputs": [],
   "source": [
    "from __future__ import print_function, division\n",
    "\n",
    "import numpy as np\n",
    "import pandas as pd\n",
    "import matplotlib.pyplot as plt\n",
    "import warnings\n",
    "import time\n",
    "import os\n",
    "import copy\n",
    "from PIL import Image\n",
    "\n",
    "import torch\n",
    "import torch.nn as nn\n",
    "import torch.optim as optim\n",
    "from torch.optim import lr_scheduler\n",
    "import torchvision\n",
    "from torchvision import datasets, models, transforms\n",
    "from torch.utils.data import DataLoader, Dataset\n",
    "from torchvision.utils import make_grid\n",
    "\n",
    "% matplotlib inline\n",
    "warnings.filterwarnings('ignore')"
   ]
  },
  {
   "cell_type": "code",
   "execution_count": 266,
   "metadata": {},
   "outputs": [],
   "source": [
    "data_transforms = {\n",
    "    'flip': transforms.Compose([\n",
    "            transforms.Resize(224),\n",
    "            transforms.CenterCrop(224),\n",
    "            transforms.ToTensor(),\n",
    "            transforms.Normalize([0.485, 0.456, 0.406], [0.229, 0.224, 0.225])]),\n",
    "    'notflip': transforms.Compose([\n",
    "            transforms.Resize(224),\n",
    "            transforms.CenterCrop(224),\n",
    "            transforms.ToTensor(),\n",
    "            transforms.Normalize([0.485, 0.456, 0.406], [0.229, 0.224, 0.225]) ])\n",
    "}"
   ]
  },
  {
   "cell_type": "code",
   "execution_count": 267,
   "metadata": {},
   "outputs": [
    {
     "data": {
      "text/html": [
       "<div>\n",
       "<style scoped>\n",
       "    .dataframe tbody tr th:only-of-type {\n",
       "        vertical-align: middle;\n",
       "    }\n",
       "\n",
       "    .dataframe tbody tr th {\n",
       "        vertical-align: top;\n",
       "    }\n",
       "\n",
       "    .dataframe thead th {\n",
       "        text-align: right;\n",
       "    }\n",
       "</style>\n",
       "<table border=\"1\" class=\"dataframe\">\n",
       "  <thead>\n",
       "    <tr style=\"text-align: right;\">\n",
       "      <th></th>\n",
       "      <th>Unnamed: 0</th>\n",
       "      <th>subject_id1</th>\n",
       "      <th>subject_id2</th>\n",
       "      <th>relationship_type</th>\n",
       "    </tr>\n",
       "  </thead>\n",
       "  <tbody>\n",
       "    <tr>\n",
       "      <th>223</th>\n",
       "      <td>224</td>\n",
       "      <td>nd1S90267</td>\n",
       "      <td>nd1S90266</td>\n",
       "      <td>Identical</td>\n",
       "    </tr>\n",
       "    <tr>\n",
       "      <th>167</th>\n",
       "      <td>168</td>\n",
       "      <td>nd1S90196</td>\n",
       "      <td>nd1S90195</td>\n",
       "      <td>Identical</td>\n",
       "    </tr>\n",
       "    <tr>\n",
       "      <th>238</th>\n",
       "      <td>239</td>\n",
       "      <td>nd1S90278</td>\n",
       "      <td>nd1S90279</td>\n",
       "      <td>Identical</td>\n",
       "    </tr>\n",
       "  </tbody>\n",
       "</table>\n",
       "</div>"
      ],
      "text/plain": [
       "     Unnamed: 0 subject_id1 subject_id2 relationship_type\n",
       "223         224   nd1S90267   nd1S90266         Identical\n",
       "167         168   nd1S90196   nd1S90195         Identical\n",
       "238         239   nd1S90278   nd1S90279         Identical"
      ]
     },
     "execution_count": 267,
     "metadata": {},
     "output_type": "execute_result"
    }
   ],
   "source": [
    "df_relation=pd.read_csv('./twins-relationship-info.csv')\n",
    "df_relation.sample(3)\n",
    "#df_relation.shape"
   ]
  },
  {
   "cell_type": "code",
   "execution_count": 268,
   "metadata": {},
   "outputs": [
    {
     "data": {
      "text/html": [
       "<div>\n",
       "<style scoped>\n",
       "    .dataframe tbody tr th:only-of-type {\n",
       "        vertical-align: middle;\n",
       "    }\n",
       "\n",
       "    .dataframe tbody tr th {\n",
       "        vertical-align: top;\n",
       "    }\n",
       "\n",
       "    .dataframe thead th {\n",
       "        text-align: right;\n",
       "    }\n",
       "</style>\n",
       "<table border=\"1\" class=\"dataframe\">\n",
       "  <thead>\n",
       "    <tr style=\"text-align: right;\">\n",
       "      <th></th>\n",
       "      <th>filename</th>\n",
       "      <th>date</th>\n",
       "      <th>gender</th>\n",
       "      <th>race</th>\n",
       "      <th>yearofbirth</th>\n",
       "      <th>weather</th>\n",
       "      <th>glasses</th>\n",
       "      <th>expression</th>\n",
       "      <th>yaw</th>\n",
       "      <th>Unnamed: 9</th>\n",
       "    </tr>\n",
       "  </thead>\n",
       "  <tbody>\n",
       "    <tr>\n",
       "      <th>960</th>\n",
       "      <td>90011d62.nef</td>\n",
       "      <td>2009-08-08 00:00:00</td>\n",
       "      <td>Female</td>\n",
       "      <td>White</td>\n",
       "      <td>1987</td>\n",
       "      <td>Rain</td>\n",
       "      <td>prism</td>\n",
       "      <td>BlankStare</td>\n",
       "      <td>0</td>\n",
       "      <td>90011d62.nef</td>\n",
       "    </tr>\n",
       "    <tr>\n",
       "      <th>4922</th>\n",
       "      <td>90055d20.nef</td>\n",
       "      <td>2009-08-08 00:00:00</td>\n",
       "      <td>Female</td>\n",
       "      <td>White</td>\n",
       "      <td>1965</td>\n",
       "      <td>Inside</td>\n",
       "      <td>prism</td>\n",
       "      <td>BlankStare</td>\n",
       "      <td>0</td>\n",
       "      <td>90055d20.nef</td>\n",
       "    </tr>\n",
       "    <tr>\n",
       "      <th>16419</th>\n",
       "      <td>90242d33.nef</td>\n",
       "      <td>2009-08-09 00:00:00</td>\n",
       "      <td>Female</td>\n",
       "      <td>White</td>\n",
       "      <td>1945</td>\n",
       "      <td>Inside</td>\n",
       "      <td>prism</td>\n",
       "      <td>Happiness</td>\n",
       "      <td>-90</td>\n",
       "      <td>90242d33.nef</td>\n",
       "    </tr>\n",
       "  </tbody>\n",
       "</table>\n",
       "</div>"
      ],
      "text/plain": [
       "           filename                  date   gender    race   yearofbirth  \\\n",
       "960    90011d62.nef   2009-08-08 00:00:00   Female   White          1987   \n",
       "4922   90055d20.nef   2009-08-08 00:00:00   Female   White          1965   \n",
       "16419  90242d33.nef   2009-08-09 00:00:00   Female   White          1945   \n",
       "\n",
       "       weather  glasses   expression   yaw    Unnamed: 9  \n",
       "960       Rain    prism   BlankStare     0  90011d62.nef  \n",
       "4922    Inside    prism   BlankStare     0  90055d20.nef  \n",
       "16419   Inside    prism    Happiness   -90  90242d33.nef  "
      ]
     },
     "execution_count": 268,
     "metadata": {},
     "output_type": "execute_result"
    }
   ],
   "source": [
    "df=pd.read_csv('./image-metadata-2.0.csv')\n",
    "df.sample(3)\n",
    "#df.shape"
   ]
  },
  {
   "cell_type": "code",
   "execution_count": 287,
   "metadata": {},
   "outputs": [],
   "source": [
    "class TwinsDataloader(Dataset):\n",
    "    def __init__(self, dataroot, df_img,df_relations, transform):\n",
    "        '''\n",
    "        dataroot: path to folder with items\n",
    "        df: pandas dataframe with fields \n",
    "        transform: torchvision flip and notflip transforms for  images(dict)\n",
    "        '''\n",
    "        self.dataroot = dataroot\n",
    "        self.df = df[df[' yaw']==0]\n",
    "        self.transform = transform\n",
    "        self.relations=df_relations\n",
    "        \n",
    "    def __getitem__(self, index):\n",
    "        \n",
    "        def get_img_path(img_id):\n",
    "            return self.dataroot+f'{img_id[:5]}/{img_id[:-4]}__face.jpg'\n",
    "        \n",
    "        #monetochka=np.random.randint(0,2)\n",
    "        monetochka=0\n",
    "        id_a = self.df['filename'].iloc[index]\n",
    "        img_a = Image.open(get_img_path(id_a))\n",
    "        \n",
    "        if monetochka==0: \n",
    "            find_id=self.relations['subject_id1'].str.find(id_a[:5])\n",
    "            id_b=self.relations['subject_id2'].iloc[find_id[find_id!=-1].index].values\n",
    "            relation=self.relations['relationship_type'].iloc[find_id[find_id!=-1].index].values\n",
    "            \n",
    "            if relation in ['Fraternal','Identical','IdenticalMirror','IdenticalTriplet']:\n",
    "                flag='Twins'\n",
    "                find_id=self.df['filename'].str.find(str(id_b[0][4:]))\n",
    "                id_b=self.df['filename'].loc[find_id[find_id!=-1].index[0]]\n",
    "                img_b = Image.open(get_img_path(id_b))\n",
    "                img_b=self.transform['notflip'](img_b)\n",
    "            else:\n",
    "                id_b=id_a.copy()\n",
    "                img_b=img_a.copy()\n",
    "                img_b=self.transform['flip'](img_b)\n",
    "                flag='Not Twins'\n",
    "        else:\n",
    "            id_b=id_a.copy()\n",
    "            img_b=img_a.copy()\n",
    "            img_b=self.transform['flip'](img_b)\n",
    "            flag='Not Twins'\n",
    "    \n",
    "        img_a = self.transform['notflip'](img_a)\n",
    "        #img_b = self.transform(img_b)\n",
    "        #print(id_a)\n",
    "        #print(id_b)\n",
    "        id_a=id_a[:5]\n",
    "        id_b=id_b[:5]\n",
    "        return {'img_a': img_a, 'img_b': img_b, 'class_a':id_a,'class_b':id_b,'label':flag}\n",
    "\n",
    "    def __len__(self):\n",
    "        return self.df.shape[0]"
   ]
  },
  {
   "cell_type": "code",
   "execution_count": 290,
   "metadata": {},
   "outputs": [],
   "source": [
    "direct='./nd-twins-0006/faces/'\n",
    "twins_dataset = TwinsDataloader(direct, df,df_relation ,data_transforms)\n",
    "\n",
    "dataset = DataLoader(twins_dataset, batch_size=5,shuffle=True)"
   ]
  },
  {
   "cell_type": "code",
   "execution_count": 291,
   "metadata": {},
   "outputs": [
    {
     "name": "stdout",
     "output_type": "stream",
     "text": [
      "['90101', '90285', '90256', '90120', '90014']\n",
      "['90100', '90284', '90257', '90121', '90015']\n"
     ]
    },
    {
     "data": {
      "image/png": "[encoded data removed]",
      "text/plain": [
       "<Figure size 432x288 with 1 Axes>"
      ]
     },
     "metadata": {},
     "output_type": "display_data"
    }
   ],
   "source": [
    "def imshow(inp, title=None):\n",
    "    \"\"\"Imshow for Tensor.\"\"\"\n",
    "    inp = inp.numpy().transpose((1, 2, 0))\n",
    "    mean = np.array([0.485, 0.456, 0.406])\n",
    "    std = np.array([0.229, 0.224, 0.225])\n",
    "    inp = std * inp + mean\n",
    "    inp = np.clip(inp, 0, 1)\n",
    "    plt.imshow(inp)\n",
    "    if title is not None:\n",
    "        plt.title(title)\n",
    "    plt.pause(0.001)  # pause a bit so that plots are updated\n",
    "\n",
    "\n",
    "# Get a batch of training data\n",
    "T = next(iter(dataset))\n",
    "\n",
    "inputs=T['img_a']\n",
    "print(T['class_a'])\n",
    "print(T['class_b'])\n",
    "# Make a grid from batch\n",
    "out = torchvision.utils.make_grid(inputs)\n",
    "\n",
    "imshow(out, title=[x for x in classes])"
   ]
  },
  {
   "cell_type": "code",
   "execution_count": null,
   "metadata": {},
   "outputs": [],
   "source": []
  },
  {
   "cell_type": "code",
   "execution_count": null,
   "metadata": {},
   "outputs": [],
   "source": []
  },
  {
   "cell_type": "code",
   "execution_count": null,
   "metadata": {},
   "outputs": [],
   "source": []
  },
  {
   "cell_type": "code",
   "execution_count": null,
   "metadata": {},
   "outputs": [],
   "source": []
  }
 ],
 "metadata": {
  "kernelspec": {
   "display_name": "Python 3",
   "language": "python",
   "name": "python3"
  },
  "language_info": {
   "codemirror_mode": {
    "name": "ipython",
    "version": 3
   },
   "file_extension": ".py",
   "mimetype": "text/x-python",
   "name": "python",
   "nbconvert_exporter": "python",
   "pygments_lexer": "ipython3",
   "version": "3.6.5"
  }
 },
 "nbformat": 4,
 "nbformat_minor": 2
}
