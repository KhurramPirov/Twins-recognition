{
 "cells": [
  {
   "cell_type": "code",
   "execution_count": 1,
   "metadata": {},
   "outputs": [],
   "source": [
    "import numpy as np\n",
    "import pandas as pd\n",
    "import matplotlib.pyplot as plt\n",
    "from tqdm import tqdm_notebook as tqdm \n",
    "import time\n",
    "import os\n",
    "from PIL import Image\n",
    "import cv2 \n",
    "from model import ContrastiveLoss\n",
    "import re\n",
    "import torch\n",
    "import torch.nn as nn\n",
    "import torch.optim as optim\n",
    "from torch.optim import lr_scheduler\n",
    "import torchvision\n",
    "from torchvision import datasets, models, transforms\n",
    "from torch.utils.data import DataLoader, Dataset\n",
    "from torchvision.utils import make_grid\n",
    "#from albumentations.augmentations.transforms import HorizontalFlip,VerticalFlip\n",
    "\n",
    "%matplotlib inline"
   ]
  },
  {
   "cell_type": "code",
   "execution_count": 2,
   "metadata": {},
   "outputs": [],
   "source": [
    "class TwinPairsDataset(Dataset):\n",
    "    def __init__(self, dataroot, df_pairs, df_views, transform, keypoints=False):\n",
    "        '''\n",
    "        dataroot: path to folder with items\n",
    "        df_pairs: pd dataframe containing pairs of ids and a correspodind label:\n",
    "                    'Same', 'Fraternal', 'Identical', 'UnknownTwinType',\n",
    "                    'IdenticalMirror', 'Sibling', 'IdenticalTriplet'\n",
    "        df_views: pd dataframe containing list of available for each id in the dataset                    \n",
    "        transform: torchvision transform\n",
    "        '''\n",
    "        self.dataroot = dataroot\n",
    "        self.df_pairs = df_pairs\n",
    "        self.df_views = df_views\n",
    "        self.transform = transform\n",
    "        self.keypoints = keypoints\n",
    "        \n",
    "    def __getitem__(self, index):\n",
    "        sample={}\n",
    "        \n",
    "        id_1, id_2  = self.df_pairs.iloc[index][['id_1', 'id_2']].values\n",
    "        id_1 = str(id_1)\n",
    "        id_2 = str(id_2)\n",
    "        label = int(self.df_pairs.iloc[index].label=='Same')\n",
    "        if id_1==id_2:\n",
    "             view_1, view_2 = np.random.choice(self.df_views.loc[id_1]['filename'], size=2, replace=False) \n",
    "        else:\n",
    "            view_1 = np.random.choice(self.df_views.loc[id_1]['filename'])\n",
    "            view_2 = np.random.choice(self.df_views.loc[id_2]['filename'])\n",
    "\n",
    "        path_1 = os.path.join(self.dataroot, id_1, view_1)\n",
    "        path_2 = os.path.join(self.dataroot, id_2, view_2)\n",
    "        \n",
    "        img_1 = Image.open(path_1)\n",
    "        img_2 = Image.open(path_2)\n",
    "        if self.keypoints:\n",
    "            df_keypoints=pd.read_csv(self.dataroot+'/df/aligned_landmarks.csv')\n",
    "            df_flip_keypoints=pd.read_csv(self.dataroot+'/df/aligned_FLIP_landmarks.csv')\n",
    "            \n",
    "            if id_1==id_2:\n",
    "                keypoints_1 = df_keypoints[view_1].values\n",
    "                keypoints_1=np.array([ [int(t[1:-1].split(', ')[0]),int(t[1:-1].split(', ')[1])] for t in keypoints_1])\n",
    "                keypoints_2 = df_flip_keypoints[view_2].values\n",
    "                keypoints_2=np.array([ [int(t[1:-1].split(', ')[0]),int(t[1:-1].split(', ')[1])] for t in keypoints_2])\n",
    "                \n",
    "            else:\n",
    "                keypoints_1 = df_keypoints[view_1].values\n",
    "                keypoints_2 = df_keypoints[view_2].values\n",
    "                keypoints_1=np.array([ [int(t[1:-1].split(', ')[0]),int(t[1:-1].split(', ')[1])] for t in keypoints_1])\n",
    "                keypoints_2=np.array([ [int(t[1:-1].split(', ')[0]),int(t[1:-1].split(', ')[1])] for t in keypoints_2])\n",
    "            sample['keypoints_1'] = keypoints_1\n",
    "            sample['keypoints_2'] = keypoints_2\n",
    "        \n",
    "        if label==1:\n",
    "            img_1 = self.transform['twin'](img_1)\n",
    "            img_2 = self.transform['same'](img_2)\n",
    "        else:\n",
    "            img_1 = self.transform['twin'](img_1)\n",
    "            img_2 = self.transform['twin'](img_2)\n",
    "            \n",
    "        sample['img_1']=img_1\n",
    "        sample['img_2']=img_2\n",
    "        sample['label']=label\n",
    "        \n",
    "        return sample\n",
    "    \n",
    "    def __len__(self):\n",
    "        return self.df_pairs.shape[0]"
   ]
  },
  {
   "cell_type": "code",
   "execution_count": 3,
   "metadata": {},
   "outputs": [],
   "source": [
    "device = torch.device(\"cuda:0\" if torch.cuda.is_available() else \"cpu\")\n",
    "data_transform ={\n",
    "    'same': transforms.Compose([\n",
    "            transforms.Resize(256),\n",
    "            transforms.CenterCrop(256),\n",
    "            transforms.RandomHorizontalFlip(p=1),\n",
    "            \n",
    "            transforms.ToTensor(),\n",
    "            transforms.Normalize([0.485, 0.456, 0.406], [0.229, 0.224, 0.225])]),\n",
    "    'twin': transforms.Compose([\n",
    "            transforms.Resize(256),\n",
    "            transforms.CenterCrop(256),\n",
    "            transforms.ToTensor(),\n",
    "            transforms.Normalize([0.485, 0.456, 0.406], [0.229, 0.224, 0.225])])\n",
    "                }\n",
    "views = pd.read_csv('/home/khurram/DL_skoltech/Skoltech_DL_2019/Project/Twins/twins_aligned_cropped_resized/df/views.csv', index_col=0)\n",
    "views.index = views.index.astype(str)\n",
    "views.filename = views.filename.apply(eval)\n",
    "\n",
    "# pairs including 50% of same identities\n",
    "pairs = pd.read_csv('/home/khurram/DL_skoltech/Skoltech_DL_2019/Project/Twins/twins_aligned_cropped_resized/pairs_train.csv')\n",
    "\n",
    "direct='/home/khurram/DL_skoltech/Skoltech_DL_2019/Project/Twins/twins_aligned_cropped_resized/'\n",
    "dataset = TwinPairsDataset(direct, pairs, views,transform=data_transform, keypoints=True)\n",
    "dataloader = DataLoader(dataset, batch_size=10,shuffle=True)"
   ]
  },
  {
   "cell_type": "markdown",
   "metadata": {},
   "source": [
    "## Train"
   ]
  },
  {
   "cell_type": "code",
   "execution_count": 4,
   "metadata": {},
   "outputs": [
    {
     "name": "stderr",
     "output_type": "stream",
     "text": [
      "Clipping input data to the valid range for imshow with RGB data ([0..1] for floats or [0..255] for integers).\n"
     ]
    },
    {
     "data": {
      "image/png": "[encoded data removed]",
      "text/plain": [
       "<Figure size 432x288 with 1 Axes>"
      ]
     },
     "metadata": {
      "needs_background": "light"
     },
     "output_type": "display_data"
    }
   ],
   "source": [
    "idx = 119\n",
    "\n",
    "sample = dataset[idx]\n",
    "std=sample['img_1'].numpy().std()\n",
    "mean=sample['img_1'].numpy().mean()\n",
    "plt.imshow(sample['img_1'].numpy().transpose(1,2,0)*std+mean)\n",
    "kp = sample['keypoints_1']\n",
    "plt.scatter(kp[:,0], kp[:,1], s=3,color='black')\n",
    "plt.show()"
   ]
  },
  {
   "cell_type": "code",
   "execution_count": 6,
   "metadata": {},
   "outputs": [
    {
     "ename": "RuntimeError",
     "evalue": "CUDA error: out of memory",
     "output_type": "error",
     "traceback": [
      "\u001b[0;31m---------------------------------------------------------------------------\u001b[0m",
      "\u001b[0;31mRuntimeError\u001b[0m                              Traceback (most recent call last)",
      "\u001b[0;32m<ipython-input-6-23894b54a9e4>\u001b[0m in \u001b[0;36m<module>\u001b[0;34m\u001b[0m\n\u001b[1;32m      5\u001b[0m \u001b[0mPATH\u001b[0m \u001b[0;34m=\u001b[0m \u001b[0mos\u001b[0m\u001b[0;34m.\u001b[0m\u001b[0mpath\u001b[0m\u001b[0;34m.\u001b[0m\u001b[0mjoin\u001b[0m\u001b[0;34m(\u001b[0m\u001b[0mos\u001b[0m\u001b[0;34m.\u001b[0m\u001b[0mgetcwd\u001b[0m\u001b[0;34m(\u001b[0m\u001b[0;34m)\u001b[0m\u001b[0;34m,\u001b[0m\u001b[0;34m\"./model_mobilefacenet.pth\"\u001b[0m\u001b[0;34m)\u001b[0m\u001b[0;34m\u001b[0m\u001b[0;34m\u001b[0m\u001b[0m\n\u001b[1;32m      6\u001b[0m \u001b[0;34m\u001b[0m\u001b[0m\n\u001b[0;32m----> 7\u001b[0;31m \u001b[0mcheckpoint\u001b[0m \u001b[0;34m=\u001b[0m \u001b[0mtorch\u001b[0m\u001b[0;34m.\u001b[0m\u001b[0mload\u001b[0m\u001b[0;34m(\u001b[0m\u001b[0mPATH\u001b[0m\u001b[0;34m,\u001b[0m\u001b[0mmap_location\u001b[0m\u001b[0;34m=\u001b[0m\u001b[0mdevice\u001b[0m\u001b[0;34m)\u001b[0m\u001b[0;34m\u001b[0m\u001b[0;34m\u001b[0m\u001b[0m\n\u001b[0m\u001b[1;32m      8\u001b[0m \u001b[0;34m\u001b[0m\u001b[0m\n\u001b[1;32m      9\u001b[0m \u001b[0mmodel\u001b[0m\u001b[0;34m.\u001b[0m\u001b[0mload_state_dict\u001b[0m\u001b[0;34m(\u001b[0m\u001b[0mcheckpoint\u001b[0m\u001b[0;34m)\u001b[0m\u001b[0;34m\u001b[0m\u001b[0;34m\u001b[0m\u001b[0m\n",
      "\u001b[0;32m~/.local/lib/python3.6/site-packages/torch/serialization.py\u001b[0m in \u001b[0;36mload\u001b[0;34m(f, map_location, pickle_module)\u001b[0m\n\u001b[1;32m    366\u001b[0m         \u001b[0mf\u001b[0m \u001b[0;34m=\u001b[0m \u001b[0mopen\u001b[0m\u001b[0;34m(\u001b[0m\u001b[0mf\u001b[0m\u001b[0;34m,\u001b[0m \u001b[0;34m'rb'\u001b[0m\u001b[0;34m)\u001b[0m\u001b[0;34m\u001b[0m\u001b[0;34m\u001b[0m\u001b[0m\n\u001b[1;32m    367\u001b[0m     \u001b[0;32mtry\u001b[0m\u001b[0;34m:\u001b[0m\u001b[0;34m\u001b[0m\u001b[0;34m\u001b[0m\u001b[0m\n\u001b[0;32m--> 368\u001b[0;31m         \u001b[0;32mreturn\u001b[0m \u001b[0m_load\u001b[0m\u001b[0;34m(\u001b[0m\u001b[0mf\u001b[0m\u001b[0;34m,\u001b[0m \u001b[0mmap_location\u001b[0m\u001b[0;34m,\u001b[0m \u001b[0mpickle_module\u001b[0m\u001b[0;34m)\u001b[0m\u001b[0;34m\u001b[0m\u001b[0;34m\u001b[0m\u001b[0m\n\u001b[0m\u001b[1;32m    369\u001b[0m     \u001b[0;32mfinally\u001b[0m\u001b[0;34m:\u001b[0m\u001b[0;34m\u001b[0m\u001b[0;34m\u001b[0m\u001b[0m\n\u001b[1;32m    370\u001b[0m         \u001b[0;32mif\u001b[0m \u001b[0mnew_fd\u001b[0m\u001b[0;34m:\u001b[0m\u001b[0;34m\u001b[0m\u001b[0;34m\u001b[0m\u001b[0m\n",
      "\u001b[0;32m~/.local/lib/python3.6/site-packages/torch/serialization.py\u001b[0m in \u001b[0;36m_load\u001b[0;34m(f, map_location, pickle_module)\u001b[0m\n\u001b[1;32m    540\u001b[0m     \u001b[0munpickler\u001b[0m \u001b[0;34m=\u001b[0m \u001b[0mpickle_module\u001b[0m\u001b[0;34m.\u001b[0m\u001b[0mUnpickler\u001b[0m\u001b[0;34m(\u001b[0m\u001b[0mf\u001b[0m\u001b[0;34m)\u001b[0m\u001b[0;34m\u001b[0m\u001b[0;34m\u001b[0m\u001b[0m\n\u001b[1;32m    541\u001b[0m     \u001b[0munpickler\u001b[0m\u001b[0;34m.\u001b[0m\u001b[0mpersistent_load\u001b[0m \u001b[0;34m=\u001b[0m \u001b[0mpersistent_load\u001b[0m\u001b[0;34m\u001b[0m\u001b[0;34m\u001b[0m\u001b[0m\n\u001b[0;32m--> 542\u001b[0;31m     \u001b[0mresult\u001b[0m \u001b[0;34m=\u001b[0m \u001b[0munpickler\u001b[0m\u001b[0;34m.\u001b[0m\u001b[0mload\u001b[0m\u001b[0;34m(\u001b[0m\u001b[0;34m)\u001b[0m\u001b[0;34m\u001b[0m\u001b[0;34m\u001b[0m\u001b[0m\n\u001b[0m\u001b[1;32m    543\u001b[0m \u001b[0;34m\u001b[0m\u001b[0m\n\u001b[1;32m    544\u001b[0m     \u001b[0mdeserialized_storage_keys\u001b[0m \u001b[0;34m=\u001b[0m \u001b[0mpickle_module\u001b[0m\u001b[0;34m.\u001b[0m\u001b[0mload\u001b[0m\u001b[0;34m(\u001b[0m\u001b[0mf\u001b[0m\u001b[0;34m)\u001b[0m\u001b[0;34m\u001b[0m\u001b[0;34m\u001b[0m\u001b[0m\n",
      "\u001b[0;32m~/.local/lib/python3.6/site-packages/torch/serialization.py\u001b[0m in \u001b[0;36mpersistent_load\u001b[0;34m(saved_id)\u001b[0m\n\u001b[1;32m    503\u001b[0m             \u001b[0;32mif\u001b[0m \u001b[0mroot_key\u001b[0m \u001b[0;32mnot\u001b[0m \u001b[0;32min\u001b[0m \u001b[0mdeserialized_objects\u001b[0m\u001b[0;34m:\u001b[0m\u001b[0;34m\u001b[0m\u001b[0;34m\u001b[0m\u001b[0m\n\u001b[1;32m    504\u001b[0m                 deserialized_objects[root_key] = restore_location(\n\u001b[0;32m--> 505\u001b[0;31m                     data_type(size), location)\n\u001b[0m\u001b[1;32m    506\u001b[0m             \u001b[0mstorage\u001b[0m \u001b[0;34m=\u001b[0m \u001b[0mdeserialized_objects\u001b[0m\u001b[0;34m[\u001b[0m\u001b[0mroot_key\u001b[0m\u001b[0;34m]\u001b[0m\u001b[0;34m\u001b[0m\u001b[0;34m\u001b[0m\u001b[0m\n\u001b[1;32m    507\u001b[0m             \u001b[0;32mif\u001b[0m \u001b[0mview_metadata\u001b[0m \u001b[0;32mis\u001b[0m \u001b[0;32mnot\u001b[0m \u001b[0;32mNone\u001b[0m\u001b[0;34m:\u001b[0m\u001b[0;34m\u001b[0m\u001b[0;34m\u001b[0m\u001b[0m\n",
      "\u001b[0;32m~/.local/lib/python3.6/site-packages/torch/serialization.py\u001b[0m in \u001b[0;36mrestore_location\u001b[0;34m(storage, location)\u001b[0m\n\u001b[1;32m    386\u001b[0m     \u001b[0;32melif\u001b[0m \u001b[0misinstance\u001b[0m\u001b[0;34m(\u001b[0m\u001b[0mmap_location\u001b[0m\u001b[0;34m,\u001b[0m \u001b[0mtorch\u001b[0m\u001b[0;34m.\u001b[0m\u001b[0mdevice\u001b[0m\u001b[0;34m)\u001b[0m\u001b[0;34m:\u001b[0m\u001b[0;34m\u001b[0m\u001b[0;34m\u001b[0m\u001b[0m\n\u001b[1;32m    387\u001b[0m         \u001b[0;32mdef\u001b[0m \u001b[0mrestore_location\u001b[0m\u001b[0;34m(\u001b[0m\u001b[0mstorage\u001b[0m\u001b[0;34m,\u001b[0m \u001b[0mlocation\u001b[0m\u001b[0;34m)\u001b[0m\u001b[0;34m:\u001b[0m\u001b[0;34m\u001b[0m\u001b[0;34m\u001b[0m\u001b[0m\n\u001b[0;32m--> 388\u001b[0;31m             \u001b[0;32mreturn\u001b[0m \u001b[0mdefault_restore_location\u001b[0m\u001b[0;34m(\u001b[0m\u001b[0mstorage\u001b[0m\u001b[0;34m,\u001b[0m \u001b[0mstr\u001b[0m\u001b[0;34m(\u001b[0m\u001b[0mmap_location\u001b[0m\u001b[0;34m)\u001b[0m\u001b[0;34m)\u001b[0m\u001b[0;34m\u001b[0m\u001b[0;34m\u001b[0m\u001b[0m\n\u001b[0m\u001b[1;32m    389\u001b[0m     \u001b[0;32melse\u001b[0m\u001b[0;34m:\u001b[0m\u001b[0;34m\u001b[0m\u001b[0;34m\u001b[0m\u001b[0m\n\u001b[1;32m    390\u001b[0m         \u001b[0;32mdef\u001b[0m \u001b[0mrestore_location\u001b[0m\u001b[0;34m(\u001b[0m\u001b[0mstorage\u001b[0m\u001b[0;34m,\u001b[0m \u001b[0mlocation\u001b[0m\u001b[0;34m)\u001b[0m\u001b[0;34m:\u001b[0m\u001b[0;34m\u001b[0m\u001b[0;34m\u001b[0m\u001b[0m\n",
      "\u001b[0;32m~/.local/lib/python3.6/site-packages/torch/serialization.py\u001b[0m in \u001b[0;36mdefault_restore_location\u001b[0;34m(storage, location)\u001b[0m\n\u001b[1;32m    112\u001b[0m \u001b[0;32mdef\u001b[0m \u001b[0mdefault_restore_location\u001b[0m\u001b[0;34m(\u001b[0m\u001b[0mstorage\u001b[0m\u001b[0;34m,\u001b[0m \u001b[0mlocation\u001b[0m\u001b[0;34m)\u001b[0m\u001b[0;34m:\u001b[0m\u001b[0;34m\u001b[0m\u001b[0;34m\u001b[0m\u001b[0m\n\u001b[1;32m    113\u001b[0m     \u001b[0;32mfor\u001b[0m \u001b[0m_\u001b[0m\u001b[0;34m,\u001b[0m \u001b[0m_\u001b[0m\u001b[0;34m,\u001b[0m \u001b[0mfn\u001b[0m \u001b[0;32min\u001b[0m \u001b[0m_package_registry\u001b[0m\u001b[0;34m:\u001b[0m\u001b[0;34m\u001b[0m\u001b[0;34m\u001b[0m\u001b[0m\n\u001b[0;32m--> 114\u001b[0;31m         \u001b[0mresult\u001b[0m \u001b[0;34m=\u001b[0m \u001b[0mfn\u001b[0m\u001b[0;34m(\u001b[0m\u001b[0mstorage\u001b[0m\u001b[0;34m,\u001b[0m \u001b[0mlocation\u001b[0m\u001b[0;34m)\u001b[0m\u001b[0;34m\u001b[0m\u001b[0;34m\u001b[0m\u001b[0m\n\u001b[0m\u001b[1;32m    115\u001b[0m         \u001b[0;32mif\u001b[0m \u001b[0mresult\u001b[0m \u001b[0;32mis\u001b[0m \u001b[0;32mnot\u001b[0m \u001b[0;32mNone\u001b[0m\u001b[0;34m:\u001b[0m\u001b[0;34m\u001b[0m\u001b[0;34m\u001b[0m\u001b[0m\n\u001b[1;32m    116\u001b[0m             \u001b[0;32mreturn\u001b[0m \u001b[0mresult\u001b[0m\u001b[0;34m\u001b[0m\u001b[0;34m\u001b[0m\u001b[0m\n",
      "\u001b[0;32m~/.local/lib/python3.6/site-packages/torch/serialization.py\u001b[0m in \u001b[0;36m_cuda_deserialize\u001b[0;34m(obj, location)\u001b[0m\n\u001b[1;32m     94\u001b[0m     \u001b[0;32mif\u001b[0m \u001b[0mlocation\u001b[0m\u001b[0;34m.\u001b[0m\u001b[0mstartswith\u001b[0m\u001b[0;34m(\u001b[0m\u001b[0;34m'cuda'\u001b[0m\u001b[0;34m)\u001b[0m\u001b[0;34m:\u001b[0m\u001b[0;34m\u001b[0m\u001b[0;34m\u001b[0m\u001b[0m\n\u001b[1;32m     95\u001b[0m         \u001b[0mdevice\u001b[0m \u001b[0;34m=\u001b[0m \u001b[0mvalidate_cuda_device\u001b[0m\u001b[0;34m(\u001b[0m\u001b[0mlocation\u001b[0m\u001b[0;34m)\u001b[0m\u001b[0;34m\u001b[0m\u001b[0;34m\u001b[0m\u001b[0m\n\u001b[0;32m---> 96\u001b[0;31m         \u001b[0;32mreturn\u001b[0m \u001b[0mobj\u001b[0m\u001b[0;34m.\u001b[0m\u001b[0mcuda\u001b[0m\u001b[0;34m(\u001b[0m\u001b[0mdevice\u001b[0m\u001b[0;34m)\u001b[0m\u001b[0;34m\u001b[0m\u001b[0;34m\u001b[0m\u001b[0m\n\u001b[0m\u001b[1;32m     97\u001b[0m \u001b[0;34m\u001b[0m\u001b[0m\n\u001b[1;32m     98\u001b[0m \u001b[0;34m\u001b[0m\u001b[0m\n",
      "\u001b[0;32m~/.local/lib/python3.6/site-packages/torch/_utils.py\u001b[0m in \u001b[0;36m_cuda\u001b[0;34m(self, device, non_blocking, **kwargs)\u001b[0m\n\u001b[1;32m     74\u001b[0m         \u001b[0;32melse\u001b[0m\u001b[0;34m:\u001b[0m\u001b[0;34m\u001b[0m\u001b[0;34m\u001b[0m\u001b[0m\n\u001b[1;32m     75\u001b[0m             \u001b[0mnew_type\u001b[0m \u001b[0;34m=\u001b[0m \u001b[0mgetattr\u001b[0m\u001b[0;34m(\u001b[0m\u001b[0mtorch\u001b[0m\u001b[0;34m.\u001b[0m\u001b[0mcuda\u001b[0m\u001b[0;34m,\u001b[0m \u001b[0mself\u001b[0m\u001b[0;34m.\u001b[0m\u001b[0m__class__\u001b[0m\u001b[0;34m.\u001b[0m\u001b[0m__name__\u001b[0m\u001b[0;34m)\u001b[0m\u001b[0;34m\u001b[0m\u001b[0;34m\u001b[0m\u001b[0m\n\u001b[0;32m---> 76\u001b[0;31m             \u001b[0;32mreturn\u001b[0m \u001b[0mnew_type\u001b[0m\u001b[0;34m(\u001b[0m\u001b[0mself\u001b[0m\u001b[0;34m.\u001b[0m\u001b[0msize\u001b[0m\u001b[0;34m(\u001b[0m\u001b[0;34m)\u001b[0m\u001b[0;34m)\u001b[0m\u001b[0;34m.\u001b[0m\u001b[0mcopy_\u001b[0m\u001b[0;34m(\u001b[0m\u001b[0mself\u001b[0m\u001b[0;34m,\u001b[0m \u001b[0mnon_blocking\u001b[0m\u001b[0;34m)\u001b[0m\u001b[0;34m\u001b[0m\u001b[0;34m\u001b[0m\u001b[0m\n\u001b[0m\u001b[1;32m     77\u001b[0m \u001b[0;34m\u001b[0m\u001b[0m\n\u001b[1;32m     78\u001b[0m \u001b[0;34m\u001b[0m\u001b[0m\n",
      "\u001b[0;31mRuntimeError\u001b[0m: CUDA error: out of memory"
     ]
    }
   ],
   "source": [
    "from model import MobileFaceNet\n",
    "\n",
    "model = MobileFaceNet(embedding_size=512)\n",
    "\n",
    "PATH = os.path.join(os.getcwd(),\"./model_mobilefacenet.pth\")\n",
    "\n",
    "checkpoint = torch.load(PATH,map_location=device)\n",
    "\n",
    "model.load_state_dict(checkpoint)\n",
    "optimizer = optim.SGD(model.parameters(),lr=0.1)"
   ]
  },
  {
   "cell_type": "markdown",
   "metadata": {},
   "source": [
    "#### Load pretrained model"
   ]
  },
  {
   "cell_type": "code",
   "execution_count": 6,
   "metadata": {},
   "outputs": [],
   "source": [
    "class ModelBottom(nn.Module):\n",
    "    def __init__(self, original_model):\n",
    "        super(ModelBottom, self).__init__()\n",
    "        self.features = nn.Sequential(*list(original_model.children())[:-2])\n",
    "        \n",
    "    def forward(self, x):\n",
    "        output = self.features(x)\n",
    "        return output\n",
    "\n",
    "#define model and fix hidden features size\n",
    "model_flatten = ModelBottom(model)\n",
    "T=next(iter(dataloader))\n",
    "outputs = model_flatten(T['img_2'])\n",
    "hid_size=outputs.data.shape[1]\n",
    "\n",
    "#define n_classes\n",
    "classes=os.listdir(direct)\n",
    "n_classes=len(classes)\n",
    "\n",
    "#define classifier\n",
    "model_flatten_classifier = nn.Sequential(\n",
    "                      nn.Linear(hid_size, 256),\n",
    "                      nn.ReLU(), \n",
    "                      nn.Dropout(0.3),\n",
    "                      nn.Linear(256, n_classes),                   \n",
    "                      nn.LogSoftmax(dim=1))\n",
    "\n",
    "# concatenate conv MobileFaceNet and classifier\n",
    "class FinModel(nn.Module):\n",
    "    def __init__(self,flatten_model,classifier_model):\n",
    "        super(FinModel, self).__init__()\n",
    "        self.to_flat_model=flatten_model\n",
    "        self.classifier_model=classifier_model\n",
    "    def forward(self,x):\n",
    "        outputs=self.to_flat_model(x)\n",
    "        outputs=self.classifier_model(outputs)\n",
    "        return outputs\n",
    "for param in model_flatten.parameters():\n",
    "    param.requires_grad = False"
   ]
  },
  {
   "cell_type": "code",
   "execution_count": 7,
   "metadata": {},
   "outputs": [],
   "source": [
    "class myModel(nn.Module):\n",
    "        def __init__(self):\n",
    "            super(myModel,self).__init__()\n",
    "            self.model_start = model_flatten\n",
    "            self.fc_layers = nn.Sequential(\n",
    "                      nn.Linear(hid_size, 500),\n",
    "                      nn.Dropout(0.5),\n",
    "                      nn.ReLU(inplace=True), \n",
    "                      nn.Linear(500,5))\n",
    "   \t    \n",
    "        def forward(self,x):\n",
    "            out1 = self.model_start(x)\n",
    "            return self.fc_layers(out1)"
   ]
  },
  {
   "cell_type": "code",
   "execution_count": 8,
   "metadata": {},
   "outputs": [],
   "source": [
    "model_final = myModel()"
   ]
  },
  {
   "cell_type": "code",
   "execution_count": 9,
   "metadata": {},
   "outputs": [],
   "source": [
    "def train(output_path, model, dataloader, optimizer,criterion, device, n_epochs=100):\n",
    "    model.cuda(device)\n",
    "    loss_hist=[]\n",
    "    for epoch in range(n_epochs):\n",
    "        loss_epoch = 0\n",
    "        for i,batch_item in enumerate(dataloader):\n",
    "            result_img_a=model(batch_item['img_1'].cuda(device))\n",
    "            result_img_b=model(batch_item['img_2'].cuda(device))\n",
    "            label=batch_item['label']\n",
    "            loss_batch=0\n",
    "            loss=0\n",
    "            optimizer.zero_grad()\n",
    "            \n",
    "            for j in range(result_img_a.shape[0]):\n",
    "                loss += criterion(result_img_a[j][None],result_img_b[j][None],label[j])        \n",
    "            loss_batch+=loss.detach().cpu().item()\n",
    "            if i % 100 == 0: print(\"Loss_batch={}\".format(loss_batch))\n",
    "            loss.backward(retain_graph=True)\n",
    "            optimizer.step()\n",
    "            loss_epoch+=loss_batch\n",
    "           \n",
    "           \n",
    "        loss_hist.append(loss_epoch)\n",
    "        torch.save(model.state_dict(), os.path.join(os.getcwd(),str(output_path)) + '/{}_epoch.pt'.format(epoch+1))\n",
    "        plt.plot(loss_hist) \n",
    "        plt.title('loss')\n",
    "        plt.legend()\n",
    "        plt.show()    \n",
    "    model.eval()"
   ]
  },
  {
   "cell_type": "code",
   "execution_count": 10,
   "metadata": {},
   "outputs": [],
   "source": [
    "model_final = myModel()\n",
    "optimizer = optim.Adam(model_final.parameters(),lr = 0.0005)\n",
    "criterion=ContrastiveLoss()\n",
    "device = torch.device(\"cuda:0\" if torch.cuda.is_available() else \"cpu\")\n",
    "# train(\"mobile_chkpts\",model_final,dataloader,optimizer,criterion,device,n_epochs=10)"
   ]
  },
  {
   "cell_type": "code",
   "execution_count": 11,
   "metadata": {},
   "outputs": [],
   "source": [
    "PATH = os.path.join(os.getcwd(),str(\"mobile_chkpts/\")) + '/{}_epoch.pt'.format(7)\n",
    "checkpoint = torch.load(PATH,map_location=device)\n",
    "\n",
    "model_final.load_state_dict(checkpoint)"
   ]
  },
  {
   "cell_type": "code",
   "execution_count": 12,
   "metadata": {},
   "outputs": [
    {
     "data": {
      "text/plain": [
       "myModel(\n",
       "  (model_start): ModelBottom(\n",
       "    (features): Sequential(\n",
       "      (0): Conv_block(\n",
       "        (conv): Conv2d(3, 64, kernel_size=(3, 3), stride=(2, 2), padding=(1, 1), bias=False)\n",
       "        (bn): BatchNorm2d(64, eps=1e-05, momentum=0.1, affine=True, track_running_stats=True)\n",
       "        (prelu): PReLU(num_parameters=64)\n",
       "      )\n",
       "      (1): Conv_block(\n",
       "        (conv): Conv2d(64, 64, kernel_size=(3, 3), stride=(1, 1), padding=(1, 1), groups=64, bias=False)\n",
       "        (bn): BatchNorm2d(64, eps=1e-05, momentum=0.1, affine=True, track_running_stats=True)\n",
       "        (prelu): PReLU(num_parameters=64)\n",
       "      )\n",
       "      (2): Depth_Wise(\n",
       "        (conv): Conv_block(\n",
       "          (conv): Conv2d(64, 128, kernel_size=(1, 1), stride=(1, 1), bias=False)\n",
       "          (bn): BatchNorm2d(128, eps=1e-05, momentum=0.1, affine=True, track_running_stats=True)\n",
       "          (prelu): PReLU(num_parameters=128)\n",
       "        )\n",
       "        (conv_dw): Conv_block(\n",
       "          (conv): Conv2d(128, 128, kernel_size=(3, 3), stride=(2, 2), padding=(1, 1), groups=128, bias=False)\n",
       "          (bn): BatchNorm2d(128, eps=1e-05, momentum=0.1, affine=True, track_running_stats=True)\n",
       "          (prelu): PReLU(num_parameters=128)\n",
       "        )\n",
       "        (project): Linear_block(\n",
       "          (conv): Conv2d(128, 64, kernel_size=(1, 1), stride=(1, 1), bias=False)\n",
       "          (bn): BatchNorm2d(64, eps=1e-05, momentum=0.1, affine=True, track_running_stats=True)\n",
       "        )\n",
       "      )\n",
       "      (3): Residual(\n",
       "        (model): Sequential(\n",
       "          (0): Depth_Wise(\n",
       "            (conv): Conv_block(\n",
       "              (conv): Conv2d(64, 128, kernel_size=(1, 1), stride=(1, 1), bias=False)\n",
       "              (bn): BatchNorm2d(128, eps=1e-05, momentum=0.1, affine=True, track_running_stats=True)\n",
       "              (prelu): PReLU(num_parameters=128)\n",
       "            )\n",
       "            (conv_dw): Conv_block(\n",
       "              (conv): Conv2d(128, 128, kernel_size=(3, 3), stride=(1, 1), padding=(1, 1), groups=128, bias=False)\n",
       "              (bn): BatchNorm2d(128, eps=1e-05, momentum=0.1, affine=True, track_running_stats=True)\n",
       "              (prelu): PReLU(num_parameters=128)\n",
       "            )\n",
       "            (project): Linear_block(\n",
       "              (conv): Conv2d(128, 64, kernel_size=(1, 1), stride=(1, 1), bias=False)\n",
       "              (bn): BatchNorm2d(64, eps=1e-05, momentum=0.1, affine=True, track_running_stats=True)\n",
       "            )\n",
       "          )\n",
       "          (1): Depth_Wise(\n",
       "            (conv): Conv_block(\n",
       "              (conv): Conv2d(64, 128, kernel_size=(1, 1), stride=(1, 1), bias=False)\n",
       "              (bn): BatchNorm2d(128, eps=1e-05, momentum=0.1, affine=True, track_running_stats=True)\n",
       "              (prelu): PReLU(num_parameters=128)\n",
       "            )\n",
       "            (conv_dw): Conv_block(\n",
       "              (conv): Conv2d(128, 128, kernel_size=(3, 3), stride=(1, 1), padding=(1, 1), groups=128, bias=False)\n",
       "              (bn): BatchNorm2d(128, eps=1e-05, momentum=0.1, affine=True, track_running_stats=True)\n",
       "              (prelu): PReLU(num_parameters=128)\n",
       "            )\n",
       "            (project): Linear_block(\n",
       "              (conv): Conv2d(128, 64, kernel_size=(1, 1), stride=(1, 1), bias=False)\n",
       "              (bn): BatchNorm2d(64, eps=1e-05, momentum=0.1, affine=True, track_running_stats=True)\n",
       "            )\n",
       "          )\n",
       "          (2): Depth_Wise(\n",
       "            (conv): Conv_block(\n",
       "              (conv): Conv2d(64, 128, kernel_size=(1, 1), stride=(1, 1), bias=False)\n",
       "              (bn): BatchNorm2d(128, eps=1e-05, momentum=0.1, affine=True, track_running_stats=True)\n",
       "              (prelu): PReLU(num_parameters=128)\n",
       "            )\n",
       "            (conv_dw): Conv_block(\n",
       "              (conv): Conv2d(128, 128, kernel_size=(3, 3), stride=(1, 1), padding=(1, 1), groups=128, bias=False)\n",
       "              (bn): BatchNorm2d(128, eps=1e-05, momentum=0.1, affine=True, track_running_stats=True)\n",
       "              (prelu): PReLU(num_parameters=128)\n",
       "            )\n",
       "            (project): Linear_block(\n",
       "              (conv): Conv2d(128, 64, kernel_size=(1, 1), stride=(1, 1), bias=False)\n",
       "              (bn): BatchNorm2d(64, eps=1e-05, momentum=0.1, affine=True, track_running_stats=True)\n",
       "            )\n",
       "          )\n",
       "          (3): Depth_Wise(\n",
       "            (conv): Conv_block(\n",
       "              (conv): Conv2d(64, 128, kernel_size=(1, 1), stride=(1, 1), bias=False)\n",
       "              (bn): BatchNorm2d(128, eps=1e-05, momentum=0.1, affine=True, track_running_stats=True)\n",
       "              (prelu): PReLU(num_parameters=128)\n",
       "            )\n",
       "            (conv_dw): Conv_block(\n",
       "              (conv): Conv2d(128, 128, kernel_size=(3, 3), stride=(1, 1), padding=(1, 1), groups=128, bias=False)\n",
       "              (bn): BatchNorm2d(128, eps=1e-05, momentum=0.1, affine=True, track_running_stats=True)\n",
       "              (prelu): PReLU(num_parameters=128)\n",
       "            )\n",
       "            (project): Linear_block(\n",
       "              (conv): Conv2d(128, 64, kernel_size=(1, 1), stride=(1, 1), bias=False)\n",
       "              (bn): BatchNorm2d(64, eps=1e-05, momentum=0.1, affine=True, track_running_stats=True)\n",
       "            )\n",
       "          )\n",
       "        )\n",
       "      )\n",
       "      (4): Depth_Wise(\n",
       "        (conv): Conv_block(\n",
       "          (conv): Conv2d(64, 256, kernel_size=(1, 1), stride=(1, 1), bias=False)\n",
       "          (bn): BatchNorm2d(256, eps=1e-05, momentum=0.1, affine=True, track_running_stats=True)\n",
       "          (prelu): PReLU(num_parameters=256)\n",
       "        )\n",
       "        (conv_dw): Conv_block(\n",
       "          (conv): Conv2d(256, 256, kernel_size=(3, 3), stride=(2, 2), padding=(1, 1), groups=256, bias=False)\n",
       "          (bn): BatchNorm2d(256, eps=1e-05, momentum=0.1, affine=True, track_running_stats=True)\n",
       "          (prelu): PReLU(num_parameters=256)\n",
       "        )\n",
       "        (project): Linear_block(\n",
       "          (conv): Conv2d(256, 128, kernel_size=(1, 1), stride=(1, 1), bias=False)\n",
       "          (bn): BatchNorm2d(128, eps=1e-05, momentum=0.1, affine=True, track_running_stats=True)\n",
       "        )\n",
       "      )\n",
       "      (5): Residual(\n",
       "        (model): Sequential(\n",
       "          (0): Depth_Wise(\n",
       "            (conv): Conv_block(\n",
       "              (conv): Conv2d(128, 256, kernel_size=(1, 1), stride=(1, 1), bias=False)\n",
       "              (bn): BatchNorm2d(256, eps=1e-05, momentum=0.1, affine=True, track_running_stats=True)\n",
       "              (prelu): PReLU(num_parameters=256)\n",
       "            )\n",
       "            (conv_dw): Conv_block(\n",
       "              (conv): Conv2d(256, 256, kernel_size=(3, 3), stride=(1, 1), padding=(1, 1), groups=256, bias=False)\n",
       "              (bn): BatchNorm2d(256, eps=1e-05, momentum=0.1, affine=True, track_running_stats=True)\n",
       "              (prelu): PReLU(num_parameters=256)\n",
       "            )\n",
       "            (project): Linear_block(\n",
       "              (conv): Conv2d(256, 128, kernel_size=(1, 1), stride=(1, 1), bias=False)\n",
       "              (bn): BatchNorm2d(128, eps=1e-05, momentum=0.1, affine=True, track_running_stats=True)\n",
       "            )\n",
       "          )\n",
       "          (1): Depth_Wise(\n",
       "            (conv): Conv_block(\n",
       "              (conv): Conv2d(128, 256, kernel_size=(1, 1), stride=(1, 1), bias=False)\n",
       "              (bn): BatchNorm2d(256, eps=1e-05, momentum=0.1, affine=True, track_running_stats=True)\n",
       "              (prelu): PReLU(num_parameters=256)\n",
       "            )\n",
       "            (conv_dw): Conv_block(\n",
       "              (conv): Conv2d(256, 256, kernel_size=(3, 3), stride=(1, 1), padding=(1, 1), groups=256, bias=False)\n",
       "              (bn): BatchNorm2d(256, eps=1e-05, momentum=0.1, affine=True, track_running_stats=True)\n",
       "              (prelu): PReLU(num_parameters=256)\n",
       "            )\n",
       "            (project): Linear_block(\n",
       "              (conv): Conv2d(256, 128, kernel_size=(1, 1), stride=(1, 1), bias=False)\n",
       "              (bn): BatchNorm2d(128, eps=1e-05, momentum=0.1, affine=True, track_running_stats=True)\n",
       "            )\n",
       "          )\n",
       "          (2): Depth_Wise(\n",
       "            (conv): Conv_block(\n",
       "              (conv): Conv2d(128, 256, kernel_size=(1, 1), stride=(1, 1), bias=False)\n",
       "              (bn): BatchNorm2d(256, eps=1e-05, momentum=0.1, affine=True, track_running_stats=True)\n",
       "              (prelu): PReLU(num_parameters=256)\n",
       "            )\n",
       "            (conv_dw): Conv_block(\n",
       "              (conv): Conv2d(256, 256, kernel_size=(3, 3), stride=(1, 1), padding=(1, 1), groups=256, bias=False)\n",
       "              (bn): BatchNorm2d(256, eps=1e-05, momentum=0.1, affine=True, track_running_stats=True)\n",
       "              (prelu): PReLU(num_parameters=256)\n",
       "            )\n",
       "            (project): Linear_block(\n",
       "              (conv): Conv2d(256, 128, kernel_size=(1, 1), stride=(1, 1), bias=False)\n",
       "              (bn): BatchNorm2d(128, eps=1e-05, momentum=0.1, affine=True, track_running_stats=True)\n",
       "            )\n",
       "          )\n",
       "          (3): Depth_Wise(\n",
       "            (conv): Conv_block(\n",
       "              (conv): Conv2d(128, 256, kernel_size=(1, 1), stride=(1, 1), bias=False)\n",
       "              (bn): BatchNorm2d(256, eps=1e-05, momentum=0.1, affine=True, track_running_stats=True)\n",
       "              (prelu): PReLU(num_parameters=256)\n",
       "            )\n",
       "            (conv_dw): Conv_block(\n",
       "              (conv): Conv2d(256, 256, kernel_size=(3, 3), stride=(1, 1), padding=(1, 1), groups=256, bias=False)\n",
       "              (bn): BatchNorm2d(256, eps=1e-05, momentum=0.1, affine=True, track_running_stats=True)\n",
       "              (prelu): PReLU(num_parameters=256)\n",
       "            )\n",
       "            (project): Linear_block(\n",
       "              (conv): Conv2d(256, 128, kernel_size=(1, 1), stride=(1, 1), bias=False)\n",
       "              (bn): BatchNorm2d(128, eps=1e-05, momentum=0.1, affine=True, track_running_stats=True)\n",
       "            )\n",
       "          )\n",
       "          (4): Depth_Wise(\n",
       "            (conv): Conv_block(\n",
       "              (conv): Conv2d(128, 256, kernel_size=(1, 1), stride=(1, 1), bias=False)\n",
       "              (bn): BatchNorm2d(256, eps=1e-05, momentum=0.1, affine=True, track_running_stats=True)\n",
       "              (prelu): PReLU(num_parameters=256)\n",
       "            )\n",
       "            (conv_dw): Conv_block(\n",
       "              (conv): Conv2d(256, 256, kernel_size=(3, 3), stride=(1, 1), padding=(1, 1), groups=256, bias=False)\n",
       "              (bn): BatchNorm2d(256, eps=1e-05, momentum=0.1, affine=True, track_running_stats=True)\n",
       "              (prelu): PReLU(num_parameters=256)\n",
       "            )\n",
       "            (project): Linear_block(\n",
       "              (conv): Conv2d(256, 128, kernel_size=(1, 1), stride=(1, 1), bias=False)\n",
       "              (bn): BatchNorm2d(128, eps=1e-05, momentum=0.1, affine=True, track_running_stats=True)\n",
       "            )\n",
       "          )\n",
       "          (5): Depth_Wise(\n",
       "            (conv): Conv_block(\n",
       "              (conv): Conv2d(128, 256, kernel_size=(1, 1), stride=(1, 1), bias=False)\n",
       "              (bn): BatchNorm2d(256, eps=1e-05, momentum=0.1, affine=True, track_running_stats=True)\n",
       "              (prelu): PReLU(num_parameters=256)\n",
       "            )\n",
       "            (conv_dw): Conv_block(\n",
       "              (conv): Conv2d(256, 256, kernel_size=(3, 3), stride=(1, 1), padding=(1, 1), groups=256, bias=False)\n",
       "              (bn): BatchNorm2d(256, eps=1e-05, momentum=0.1, affine=True, track_running_stats=True)\n",
       "              (prelu): PReLU(num_parameters=256)\n",
       "            )\n",
       "            (project): Linear_block(\n",
       "              (conv): Conv2d(256, 128, kernel_size=(1, 1), stride=(1, 1), bias=False)\n",
       "              (bn): BatchNorm2d(128, eps=1e-05, momentum=0.1, affine=True, track_running_stats=True)\n",
       "            )\n",
       "          )\n",
       "        )\n",
       "      )\n",
       "      (6): Depth_Wise(\n",
       "        (conv): Conv_block(\n",
       "          (conv): Conv2d(128, 512, kernel_size=(1, 1), stride=(1, 1), bias=False)\n",
       "          (bn): BatchNorm2d(512, eps=1e-05, momentum=0.1, affine=True, track_running_stats=True)\n",
       "          (prelu): PReLU(num_parameters=512)\n",
       "        )\n",
       "        (conv_dw): Conv_block(\n",
       "          (conv): Conv2d(512, 512, kernel_size=(3, 3), stride=(2, 2), padding=(1, 1), groups=512, bias=False)\n",
       "          (bn): BatchNorm2d(512, eps=1e-05, momentum=0.1, affine=True, track_running_stats=True)\n",
       "          (prelu): PReLU(num_parameters=512)\n",
       "        )\n",
       "        (project): Linear_block(\n",
       "          (conv): Conv2d(512, 128, kernel_size=(1, 1), stride=(1, 1), bias=False)\n",
       "          (bn): BatchNorm2d(128, eps=1e-05, momentum=0.1, affine=True, track_running_stats=True)\n",
       "        )\n",
       "      )\n",
       "      (7): Residual(\n",
       "        (model): Sequential(\n",
       "          (0): Depth_Wise(\n",
       "            (conv): Conv_block(\n",
       "              (conv): Conv2d(128, 256, kernel_size=(1, 1), stride=(1, 1), bias=False)\n",
       "              (bn): BatchNorm2d(256, eps=1e-05, momentum=0.1, affine=True, track_running_stats=True)\n",
       "              (prelu): PReLU(num_parameters=256)\n",
       "            )\n",
       "            (conv_dw): Conv_block(\n",
       "              (conv): Conv2d(256, 256, kernel_size=(3, 3), stride=(1, 1), padding=(1, 1), groups=256, bias=False)\n",
       "              (bn): BatchNorm2d(256, eps=1e-05, momentum=0.1, affine=True, track_running_stats=True)\n",
       "              (prelu): PReLU(num_parameters=256)\n",
       "            )\n",
       "            (project): Linear_block(\n",
       "              (conv): Conv2d(256, 128, kernel_size=(1, 1), stride=(1, 1), bias=False)\n",
       "              (bn): BatchNorm2d(128, eps=1e-05, momentum=0.1, affine=True, track_running_stats=True)\n",
       "            )\n",
       "          )\n",
       "          (1): Depth_Wise(\n",
       "            (conv): Conv_block(\n",
       "              (conv): Conv2d(128, 256, kernel_size=(1, 1), stride=(1, 1), bias=False)\n",
       "              (bn): BatchNorm2d(256, eps=1e-05, momentum=0.1, affine=True, track_running_stats=True)\n",
       "              (prelu): PReLU(num_parameters=256)\n",
       "            )\n",
       "            (conv_dw): Conv_block(\n",
       "              (conv): Conv2d(256, 256, kernel_size=(3, 3), stride=(1, 1), padding=(1, 1), groups=256, bias=False)\n",
       "              (bn): BatchNorm2d(256, eps=1e-05, momentum=0.1, affine=True, track_running_stats=True)\n",
       "              (prelu): PReLU(num_parameters=256)\n",
       "            )\n",
       "            (project): Linear_block(\n",
       "              (conv): Conv2d(256, 128, kernel_size=(1, 1), stride=(1, 1), bias=False)\n",
       "              (bn): BatchNorm2d(128, eps=1e-05, momentum=0.1, affine=True, track_running_stats=True)\n",
       "            )\n",
       "          )\n",
       "        )\n",
       "      )\n",
       "      (8): Conv_block(\n",
       "        (conv): Conv2d(128, 512, kernel_size=(1, 1), stride=(1, 1), bias=False)\n",
       "        (bn): BatchNorm2d(512, eps=1e-05, momentum=0.1, affine=True, track_running_stats=True)\n",
       "        (prelu): PReLU(num_parameters=512)\n",
       "      )\n",
       "      (9): Linear_block(\n",
       "        (conv): Conv2d(512, 512, kernel_size=(7, 7), stride=(1, 1), groups=512, bias=False)\n",
       "        (bn): BatchNorm2d(512, eps=1e-05, momentum=0.1, affine=True, track_running_stats=True)\n",
       "      )\n",
       "      (10): Flatten()\n",
       "    )\n",
       "  )\n",
       "  (fc_layers): Sequential(\n",
       "    (0): Linear(in_features=51200, out_features=500, bias=True)\n",
       "    (1): Dropout(p=0.5)\n",
       "    (2): ReLU(inplace)\n",
       "    (3): Linear(in_features=500, out_features=5, bias=True)\n",
       "  )\n",
       ")"
      ]
     },
     "execution_count": 12,
     "metadata": {},
     "output_type": "execute_result"
    }
   ],
   "source": [
    "model_final.eval()"
   ]
  },
  {
   "cell_type": "markdown",
   "metadata": {},
   "source": [
    "### validation"
   ]
  },
  {
   "cell_type": "code",
   "execution_count": 77,
   "metadata": {},
   "outputs": [],
   "source": [
    "device = torch.device(\"cuda:0\" if torch.cuda.is_available() else \"cpu\")\n",
    "data_transform ={\n",
    "    'same': transforms.Compose([\n",
    "            transforms.Resize(256),\n",
    "            transforms.CenterCrop(256),\n",
    "            transforms.ToTensor(),\n",
    "            transforms.Normalize([0.485, 0.456, 0.406], [0.229, 0.224, 0.225])]),\n",
    "    'twin': transforms.Compose([\n",
    "            transforms.Resize(256),\n",
    "            transforms.CenterCrop(256),\n",
    "            transforms.ToTensor(),\n",
    "            transforms.Normalize([0.485, 0.456, 0.406], [0.229, 0.224, 0.225])])\n",
    "                }\n",
    "views = pd.read_csv('/home/khurram/DL_skoltech/Skoltech_DL_2019/Project/Twins/twins_aligned_cropped_resized/df/views.csv', index_col=0)\n",
    "views.index = views.index.astype(str)\n",
    "views.filename = views.filename.apply(eval)\n",
    "\n",
    "# pairs including 50% of same identities\n",
    "pairs_test = pd.read_csv('/home/khurram/DL_skoltech/Skoltech_DL_2019/Project/Twins/twins_aligned_cropped_resized/pairs_val_face.csv')\n",
    "pairs_train = pd.read_csv('/home/khurram/DL_skoltech/Skoltech_DL_2019/Project/Twins/twins_aligned_cropped_resized/pairs_train.csv')\n",
    "direct='/home/khurram/DL_skoltech/Skoltech_DL_2019/Project/Twins/twins_aligned_cropped_resized/'\n",
    "dataset_test = TwinPairsDataset(direct, pairs_test, views,transform=data_transform, keypoints=True)\n",
    "dataloader_test = DataLoader(dataset_test, batch_size=5,shuffle=True)\n",
    "dataset_train = TwinPairsDataset(direct, pairs_train, views,transform=data_transform, keypoints=True)\n",
    "dataloader_train = DataLoader(dataset_train, batch_size=5,shuffle=True)"
   ]
  },
  {
   "cell_type": "code",
   "execution_count": 78,
   "metadata": {},
   "outputs": [],
   "source": [
    "T=next(iter(dataloader_train))"
   ]
  },
  {
   "cell_type": "code",
   "execution_count": 79,
   "metadata": {},
   "outputs": [],
   "source": [
    "\n",
    "outputs1 = model_final(T['img_1'])\n",
    "outputs2 = model_final(T['img_2'])\n",
    "target_train = T['label']\n",
    "X_train = torch.cat((outputs1,outputs2),dim=1)"
   ]
  },
  {
   "cell_type": "code",
   "execution_count": 33,
   "metadata": {},
   "outputs": [],
   "source": [
    "X_newkp1 = T['keypoints_1'].float().view(-1,68*2)\n",
    "X_newkp2 = T['keypoints_2'].float().view(-1,68*2)\n",
    "X_concat_all_kp = torch.cat((X_newkp1, X_newkp2), dim=1)\n",
    "X_train_all = torch.cat((X_train,X_concat_all_kp), dim=1)"
   ]
  },
  {
   "cell_type": "code",
   "execution_count": 37,
   "metadata": {},
   "outputs": [
    {
     "data": {
      "application/vnd.jupyter.widget-view+json": {
       "model_id": "adc4a983be9c4750bce2658bc6064f85",
       "version_major": 2,
       "version_minor": 0
      },
      "text/plain": [
       "HBox(children=(IntProgress(value=1, bar_style='info', max=1), HTML(value='')))"
      ]
     },
     "metadata": {},
     "output_type": "display_data"
    },
    {
     "name": "stdout",
     "output_type": "stream",
     "text": [
      "\n"
     ]
    }
   ],
   "source": [
    "for i,batch_item in tqdm(enumerate(dataloader_train)):\n",
    "            result_img_a = model_final(batch_item['img_1'])\n",
    "            result_img_b = model_final(batch_item['img_2'])\n",
    "            X_train = torch.cat((X_train,torch.cat((result_img_a,result_img_b),dim=1)), dim=0)\n",
    "            newkp1 = batch_item['keypoints_1'].float().view(-1,68*2)\n",
    "            newkp2 = batch_item['keypoints_2'].float().view(-1,68*2)\n",
    "            X_concat_all = torch.cat((torch.cat((result_img_a,result_img_b),dim=1),torch.cat((newkp1, newkp2), dim=1)), dim=1)\n",
    "            X_train_all = torch.cat((X_train_all, X_concat_all), dim=0)\n",
    "            target_train = torch.cat((target_train,batch_item['label']),dim=0)"
   ]
  },
  {
   "cell_type": "code",
   "execution_count": 41,
   "metadata": {},
   "outputs": [
    {
     "data": {
      "text/plain": [
       "torch.Size([651, 282])"
      ]
     },
     "execution_count": 41,
     "metadata": {},
     "output_type": "execute_result"
    }
   ],
   "source": [
    "X_train_all.shape"
   ]
  },
  {
   "cell_type": "code",
   "execution_count": 66,
   "metadata": {},
   "outputs": [],
   "source": [
    "T=next(iter(dataloader_test))"
   ]
  },
  {
   "cell_type": "code",
   "execution_count": null,
   "metadata": {},
   "outputs": [],
   "source": []
  },
  {
   "cell_type": "code",
   "execution_count": 67,
   "metadata": {},
   "outputs": [
    {
     "data": {
      "application/vnd.jupyter.widget-view+json": {
       "model_id": "5dd5878cc71042a38037c521ee4039c1",
       "version_major": 2,
       "version_minor": 0
      },
      "text/plain": [
       "HBox(children=(IntProgress(value=1, bar_style='info', max=1), HTML(value='')))"
      ]
     },
     "metadata": {},
     "output_type": "display_data"
    },
    {
     "name": "stdout",
     "output_type": "stream",
     "text": [
      "\n"
     ]
    }
   ],
   "source": [
    "\n",
    "outputs1_test = model_final(T['img_1'])\n",
    "outputs2_test = model_final(T['img_2'])\n",
    "target_test = T['label']\n",
    "X_test= torch.cat((outputs1_test,outputs2_test),dim=1)\n",
    "X_newkp1_test = T['keypoints_1'].float().view(-1,68*2)\n",
    "X_newkp2_test = T['keypoints_2'].float().view(-1,68*2)\n",
    "X_concat_all_kp_test= torch.cat((X_newkp1, X_newkp2), dim=1)\n",
    "X_test_all = torch.cat((X_test,X_concat_all_kp), dim=1)\n",
    "for i,batch_item in tqdm(enumerate(dataloader_test)):\n",
    "            result_img_a = model_final(batch_item['img_1'])\n",
    "            result_img_b = model_final(batch_item['img_2'])\n",
    "            X_test = torch.cat((X_test,torch.cat((result_img_a,result_img_b),dim=1)), dim=0)\n",
    "            newkp1 = batch_item['keypoints_1'].float().view(-1,68*2)\n",
    "            newkp2 = batch_item['keypoints_2'].float().view(-1,68*2)\n",
    "            X_concat_all = torch.cat((torch.cat((result_img_a,result_img_b),dim=1),torch.cat((newkp1, newkp2), dim=1)), dim=1)\n",
    "            X_test_all = torch.cat((X_test_all, X_concat_all), dim=0)\n",
    "            target_test = torch.cat((target_test,batch_item['label']),dim=0)"
   ]
  },
  {
   "cell_type": "code",
   "execution_count": 45,
   "metadata": {},
   "outputs": [
    {
     "data": {
      "text/plain": [
       "torch.Size([213])"
      ]
     },
     "execution_count": 45,
     "metadata": {},
     "output_type": "execute_result"
    }
   ],
   "source": [
    "target_test.shape"
   ]
  },
  {
   "cell_type": "markdown",
   "metadata": {},
   "source": [
    "### Without any additional features"
   ]
  },
  {
   "cell_type": "code",
   "execution_count": 68,
   "metadata": {},
   "outputs": [],
   "source": [
    "from sklearn.svm import SVC\n",
    "from sklearn.metrics import roc_auc_score\n",
    "from sklearn.metrics import accuracy_score,roc_auc_score,recall_score,precision_score"
   ]
  },
  {
   "cell_type": "code",
   "execution_count": 69,
   "metadata": {},
   "outputs": [],
   "source": [
    "target_train_numpy = target_train.detach().cpu().numpy()\n",
    "X_train_numpy = X_train_all.detach().cpu().numpy()\n",
    "target_test_numpy = target_test.detach().cpu().numpy()\n",
    "X_test_numpy = X_test_all.detach().cpu().numpy()"
   ]
  },
  {
   "cell_type": "code",
   "execution_count": 70,
   "metadata": {},
   "outputs": [
    {
     "data": {
      "text/plain": [
       "0.9631849315068493"
      ]
     },
     "execution_count": 70,
     "metadata": {},
     "output_type": "execute_result"
    }
   ],
   "source": [
    "svc = SVC(kernel='linear', C=10, probability=True)\n",
    "svc.fit(X_train_numpy, target_train_numpy)\n",
    "preds = svc.predict_proba(X_test_numpy)\n",
    "roc_auc_score(target_test_numpy, preds[:,1])"
   ]
  },
  {
   "cell_type": "code",
   "execution_count": 71,
   "metadata": {},
   "outputs": [],
   "source": [
    "y_pred=svc.predict(X_test_numpy)"
   ]
  },
  {
   "cell_type": "code",
   "execution_count": 72,
   "metadata": {},
   "outputs": [
    {
     "data": {
      "text/plain": [
       "1.0"
      ]
     },
     "execution_count": 72,
     "metadata": {},
     "output_type": "execute_result"
    }
   ],
   "source": [
    "preds_train = svc.predict_proba(X_train_numpy)\n",
    "roc_auc_score(target_train_numpy, preds_train[:,1])"
   ]
  },
  {
   "cell_type": "code",
   "execution_count": 76,
   "metadata": {},
   "outputs": [
    {
     "data": {
      "text/plain": [
       "137"
      ]
     },
     "execution_count": 76,
     "metadata": {},
     "output_type": "execute_result"
    }
   ],
   "source": [
    "len(y_pred)"
   ]
  },
  {
   "cell_type": "code",
   "execution_count": 74,
   "metadata": {},
   "outputs": [],
   "source": [
    "label = target_test_numpy"
   ]
  },
  {
   "cell_type": "code",
   "execution_count": 75,
   "metadata": {},
   "outputs": [
    {
     "name": "stdout",
     "output_type": "stream",
     "text": [
      "0.9416058394160584\n",
      "0.9470755128764732\n",
      "0.9113924050632911\n",
      "0.9863013698630136\n"
     ]
    }
   ],
   "source": [
    "print(accuracy_score(y_pred,label))\n",
    "print(roc_auc_score(y_pred,label))\n",
    "print(recall_score(y_pred,label))\n",
    "print(precision_score(y_pred,label))"
   ]
  },
  {
   "cell_type": "code",
   "execution_count": null,
   "metadata": {},
   "outputs": [],
   "source": []
  }
 ],
 "metadata": {
  "kernelspec": {
   "display_name": "Python 3",
   "language": "python",
   "name": "python3"
  },
  "language_info": {
   "codemirror_mode": {
    "name": "ipython",
    "version": 3
   },
   "file_extension": ".py",
   "mimetype": "text/x-python",
   "name": "python",
   "nbconvert_exporter": "python",
   "pygments_lexer": "ipython3",
   "version": "3.6.7"
  }
 },
 "nbformat": 4,
 "nbformat_minor": 2
}
