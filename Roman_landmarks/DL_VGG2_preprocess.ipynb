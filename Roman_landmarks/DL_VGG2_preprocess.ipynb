{
  "nbformat": 4,
  "nbformat_minor": 0,
  "metadata": {
    "colab": {
      "name": "DL_VGG2_preprocess.ipynb",
      "version": "0.3.2",
      "provenance": [],
      "collapsed_sections": [],
      "toc_visible": true
    },
    "kernelspec": {
      "name": "python3",
      "display_name": "Python 3"
    },
    "accelerator": "GPU"
  },
  "cells": [
    {
      "cell_type": "markdown",
      "metadata": {
        "id": "CsQ2jEbilxDd",
        "colab_type": "text"
      },
      "source": [
        "### Libs"
      ]
    },
    {
      "cell_type": "code",
      "metadata": {
        "id": "R42ZtjpFlnMn",
        "colab_type": "code",
        "colab": {
          "base_uri": "https://localhost:8080/",
          "height": 168
        },
        "outputId": "f7e664ca-84e8-4f46-d4a9-7ae3e3fabb84"
      },
      "source": [
        "#!pip install dlib\n",
        "#!pip install opencv-python\n",
        "#!pip install --upgrade imutils\n",
        "\n",
        "# Stage 1\n",
        "!pip install git+https://github.com/siriusdemon/pytorch-pcn \n",
        "import pcn \n",
        "\n",
        "import dlib\n",
        "import cv2\n",
        "\n",
        "import numpy as np\n",
        "import pandas as pd\n",
        "\n",
        "import imutils\n",
        "import os\n",
        "\n",
        "from PIL import Image\n",
        "\n",
        "from matplotlib import pyplot as plt"
      ],
      "execution_count": 3,
      "outputs": [
        {
          "output_type": "stream",
          "text": [
            "Collecting git+https://github.com/siriusdemon/pytorch-pcn\n",
            "  Cloning https://github.com/siriusdemon/pytorch-pcn to /tmp/pip-req-build-h25hhogj\n",
            "  Running command git clone -q https://github.com/siriusdemon/pytorch-pcn /tmp/pip-req-build-h25hhogj\n",
            "Building wheels for collected packages: pcn\n",
            "  Building wheel for pcn (setup.py) ... \u001b[?25l\u001b[?25hdone\n",
            "  Stored in directory: /tmp/pip-ephem-wheel-cache-w9x_4xi3/wheels/99/3b/30/d4e08639df962acfb6911f9b291f877d9a06e946926a317737\n",
            "Successfully built pcn\n",
            "Installing collected packages: pcn\n",
            "Successfully installed pcn-0.1.0\n"
          ],
          "name": "stdout"
        }
      ]
    },
    {
      "cell_type": "code",
      "metadata": {
        "id": "plFl_mUFl32O",
        "colab_type": "code",
        "colab": {}
      },
      "source": [
        "from dlib_fd import dlib_landmark_detector\n",
        "from pcn_fd import PCN_face_detector\n",
        "from hr_e import head_rotation_estimator"
      ],
      "execution_count": 0,
      "outputs": []
    },
    {
      "cell_type": "markdown",
      "metadata": {
        "id": "rwHLT0tlmIDc",
        "colab_type": "text"
      },
      "source": [
        "### Get data. Original photo 'uint8'"
      ]
    },
    {
      "cell_type": "code",
      "metadata": {
        "id": "i_iebCzcmG-C",
        "colab_type": "code",
        "colab": {}
      },
      "source": [
        "file_path = ### '.'\n",
        "file_name = ### 'photo_test_2.jpg'\n",
        "\n",
        "img = cv2.imread(os.path.join(file_path, file_name)) \n",
        "img = cv2.cvtColor(img, cv2.COLOR_BGR2RGB)"
      ],
      "execution_count": 0,
      "outputs": []
    },
    {
      "cell_type": "markdown",
      "metadata": {
        "id": "fZr5ED_JmZzi",
        "colab_type": "text"
      },
      "source": [
        "### Initiate detector"
      ]
    },
    {
      "cell_type": "code",
      "metadata": {
        "id": "EiLBoMuRmdu6",
        "colab_type": "code",
        "colab": {}
      },
      "source": [
        "path_to_dlib_dat_files = ### '.' "
      ],
      "execution_count": 0,
      "outputs": []
    },
    {
      "cell_type": "code",
      "metadata": {
        "id": "-iDM-sYNmbvd",
        "colab_type": "code",
        "colab": {}
      },
      "source": [
        "dfd = dlib_landmark_detector(cnn_flag=True, \n",
        "                             bb_detector_path = os.path.join(path_to_dlib_dat_files, 'mmod_human_face_detector.dat'), \n",
        "                             landmark_predictor_path = os.path.join(path_to_dlib_dat_files,'shape_predictor_68_face_landmarks.dat') )"
      ],
      "execution_count": 0,
      "outputs": []
    },
    {
      "cell_type": "markdown",
      "metadata": {
        "id": "OCE8fpSTocbZ",
        "colab_type": "text"
      },
      "source": [
        "Stage 1"
      ]
    },
    {
      "cell_type": "code",
      "metadata": {
        "id": "auNNXVX_nQoQ",
        "colab_type": "code",
        "colab": {
          "base_uri": "https://localhost:8080/",
          "height": 34
        },
        "outputId": "b14896d6-0574-440e-9dad-e73b7bde4d89"
      },
      "source": [
        "pcn_rotation = PCN_face_detector(img, verbose = False) # initialte\n",
        "pcn_rotation.get_bb_pcn() # detect face\n",
        "\n",
        "pcn_angle = pcn_rotation.get_angle() # this is angle alpha on pic\n",
        "restored_img = pcn_rotation.restore(visualize= False)  # this is restored image. To plot image set visualize=True\n",
        "\n",
        "# print(pcn_angle)"
      ],
      "execution_count": 38,
      "outputs": [
        {
          "output_type": "stream",
          "text": [
            "-1.8916213838383555\n"
          ],
          "name": "stdout"
        }
      ]
    },
    {
      "cell_type": "markdown",
      "metadata": {
        "id": "B06MiSiSod5X",
        "colab_type": "text"
      },
      "source": [
        "Stage 2"
      ]
    },
    {
      "cell_type": "code",
      "metadata": {
        "id": "5rs5-xwend-F",
        "colab_type": "code",
        "colab": {
          "base_uri": "https://localhost:8080/",
          "height": 50
        },
        "outputId": "7e7aca8a-581d-4444-fd75-c7abdea4f475"
      },
      "source": [
        "dfd.reset() # reset before sttart\n",
        "dfd.face_detect(restored_img, visualize=False) # detect face on RESTORED (After angle detection)\n",
        "\n",
        "crop_size_pix = 256\n",
        "crop_padding_percent = 0.25\n",
        "\n",
        "face_cropped = dlib.get_face_chip(dfd._rescaled_image.copy(), \n",
        "                                  dfd.landmark_shape, \n",
        "                                  size=crop_size_pix, \n",
        "                                  padding=crop_padding_percent) #crop and align face\n",
        "landmarks = dfd.get_original_size_landmarks()"
      ],
      "execution_count": 49,
      "outputs": [
        {
          "output_type": "stream",
          "text": [
            "CPU times: user 61.4 ms, sys: 122 ms, total: 184 ms\n",
            "Wall time: 185 ms\n"
          ],
          "name": "stdout"
        }
      ]
    },
    {
      "cell_type": "markdown",
      "metadata": {
        "id": "M3qK9fdcoe7N",
        "colab_type": "text"
      },
      "source": [
        "Stage 3"
      ]
    },
    {
      "cell_type": "code",
      "metadata": {
        "id": "SWINHXn6oEm3",
        "colab_type": "code",
        "colab": {
          "base_uri": "https://localhost:8080/",
          "height": 50
        },
        "outputId": "99e2a5b7-fd13-4e9d-cac7-a27c371c4113"
      },
      "source": [
        "hre = head_rotation_estimator(landmarks, verbose=False)\n",
        "hre.get_horizontal_rotation_angles()\n",
        "hre.get_vertical_angles()\n",
        "            \n",
        "horizontal_angle = hre.horizontal_angle\n",
        "horizontal_direction = hre.horizontal_direction\n",
        "vertical_angle = hre.vertical_angle\n",
        "vertical_direction = hre.vertical_direction\n",
        "\n",
        "# print('Horizontal angle ~ %i, direction: %s'%(horizontal_angle, horizontal_direction))\n",
        "# print('Vertical angle ~ %i, direction: %s'%(vertical_angle, vertical_direction))"
      ],
      "execution_count": 40,
      "outputs": [
        {
          "output_type": "stream",
          "text": [
            "Horizontal angle ~ -1, direction: front\n",
            "Vertical angle ~ -1, direction: front\n"
          ],
          "name": "stdout"
        }
      ]
    },
    {
      "cell_type": "markdown",
      "metadata": {
        "id": "y2FmkkPVoBmB",
        "colab_type": "text"
      },
      "source": [
        "### Save file"
      ]
    },
    {
      "cell_type": "code",
      "metadata": {
        "id": "F_7trcF_okev",
        "colab_type": "code",
        "colab": {}
      },
      "source": [
        "path_to_save_file = ### '.'\n",
        "save_filename = ### 'c_'+file_name"
      ],
      "execution_count": 0,
      "outputs": []
    },
    {
      "cell_type": "code",
      "metadata": {
        "id": "Wp-E6vQpoAo2",
        "colab_type": "code",
        "colab": {
          "base_uri": "https://localhost:8080/",
          "height": 34
        },
        "outputId": "a4bfa3fd-8bc4-4811-9160-37fd01063a86"
      },
      "source": [
        "face_cropped = cv2.cvtColor(face_cropped, cv2.COLOR_BGR2RGB)\n",
        "cv2.imwrite( os.path.join(path_to_save_file, save_filename), face_cropped)"
      ],
      "execution_count": 42,
      "outputs": [
        {
          "output_type": "execute_result",
          "data": {
            "text/plain": [
              "True"
            ]
          },
          "metadata": {
            "tags": []
          },
          "execution_count": 42
        }
      ]
    },
    {
      "cell_type": "code",
      "metadata": {
        "id": "XPNhgB-Yrir8",
        "colab_type": "code",
        "colab": {}
      },
      "source": [
        ""
      ],
      "execution_count": 0,
      "outputs": []
    }
  ]
}