{
 "cells": [
  {
   "cell_type": "code",
   "execution_count": 11,
   "metadata": {},
   "outputs": [],
   "source": [
    "import argparse\n",
    "import datetime\n",
    "import os.path as osp\n",
    "import os\n",
    "from pprint import pformat\n",
    "import sys\n",
    "sys.path.append('.')\n",
    "# import glog as log\n",
    "import torch\n",
    "import torch.optim as optim\n",
    "from torch.utils.data import DataLoader\n",
    "import torch.backends.cudnn as cudnn\n",
    "from torchvision import transforms as t\n",
    "from tensorboardX import SummaryWriter\n",
    "\n",
    "from datasets.vggface2 import VGGFace2\n",
    "# from datasets.vggface2flip import VGGFace2Flip\n",
    "\n",
    "from losses.am_softmax import AMSoftmaxLoss\n",
    "# from evaluate_lfw import evaluate, compute_embeddings_lfw\n",
    "\n",
    "from utils.utils import load_model_state, save_model_cpu\n",
    "import utils.augmentation as augm\n",
    "from utils.parser_yaml import ArgumentParserWithYaml\n",
    "from evaluate import evaluate, compute_embeddings_lfw\n",
    "\n",
    "from datasets.twins import TwinPairsDataset, ClassificationDataset\n",
    "import pandas as pd\n",
    "import numpy as np\n",
    "\n",
    "import matplotlib.pyplot as plt\n",
    "%matplotlib inline\n",
    "\n",
    "os.environ['CUDA_VISIBLE_DEVICES']='0,1,2'"
   ]
  },
  {
   "cell_type": "code",
   "execution_count": null,
   "metadata": {},
   "outputs": [],
   "source": [
    "VGGFace2_ROOT = '/home//user/data/vgg_face2'\n",
    "LFW_ROOT = '/home//user/data/lfw'\n",
    "TWINS_ROOT = '/home/user/data/twins_aligned_eyes_resized'"
   ]
  },
  {
   "cell_type": "code",
   "execution_count": 89,
   "metadata": {},
   "outputs": [],
   "source": [
    "class Args:\n",
    "    #datasets configuration\n",
    "    train_dataset='vgg'\n",
    "    train_data_root=f'{VGGFace2_ROOT}/train'\n",
    "    train_list=f'{VGGFace2_ROOT}/train_list.txt'\n",
    "    train_landmarks=f'{VGGFace2_ROOT}/bb_landmark'\n",
    "\n",
    "    val_data_root=f'{LFW_ROOT}/lfw-deepfunneled'\n",
    "    val_step=50\n",
    "    val_list=f'{LFW_ROOT}/pairs.txt'\n",
    "    val_landmarks=f'{LFW_ROOT}/lfw_landmark.txt'\n",
    "\n",
    "    #model configuration\n",
    "    model='mobilenet'\n",
    "    embed_size=256\n",
    "\n",
    "    #optimizer configuration\n",
    "    train_batch_size=80\n",
    "    epoch_total_num=3000\n",
    "    lr=0.35\n",
    "    momentum=0.9\n",
    "    weight_decay=0.0001\n",
    "\n",
    "    #loss configuration\n",
    "    mining_type='focal'\n",
    "    t=1.1\n",
    "    gamma=2.\n",
    "    m=1.0\n",
    "    s=30\n",
    "    margin_type='cos'\n",
    "\n",
    "    #other parameters\n",
    "    devices=[0,1,2]\n",
    "    val_batch_size=20\n",
    "    snap_folder='./snapshots/'\n",
    "    snap_prefix='res18_224_twins_rot'\n",
    "    snap_to_resume= 'snapshots/res18_224_twins_rot0.9076_0.7436507936507936.pt'\n",
    "    weighted=True\n",
    "args = Args()"
   ]
  },
  {
   "cell_type": "code",
   "execution_count": 41,
   "metadata": {},
   "outputs": [
    {
     "data": {
      "text/plain": [
       "3"
      ]
     },
     "execution_count": 41,
     "metadata": {},
     "output_type": "execute_result"
    }
   ],
   "source": [
    "torch.cuda.device_count()"
   ]
  },
  {
   "cell_type": "markdown",
   "metadata": {},
   "source": [
    "### Data"
   ]
  },
  {
   "cell_type": "code",
   "execution_count": 61,
   "metadata": {},
   "outputs": [
    {
     "name": "stdout",
     "output_type": "stream",
     "text": [
      "277\n"
     ]
    }
   ],
   "source": [
    "# input_size = models_backbones[args.model].get_input_res()\n",
    "\n",
    "from albumentations import Compose, Normalize, CenterCrop, Resize\n",
    "from albumentations.torch import ToTensor\n",
    "\n",
    "DF_ROOT='/home/user/data/twins_aligned_cropped_resized'\n",
    "# define crop transform of your choice\n",
    "crop = 512\n",
    "input_size = (320,320)\n",
    "# center crop + normalize\n",
    "transform = Compose([\n",
    "#     CenterCrop(crop, crop),\n",
    "                     Resize(*input_size)],\n",
    "#                      Normalize(mean, std)], \n",
    "                   to_tensor=ToTensor())#, additional_targets={'image1': 'image'})\n",
    "#                    keypoint_params={'format': 'xy', 'remove_invisible': False})\n",
    "# transform = Compose([CenterCrop(size, size), ToTensor()], p=1,\n",
    "#         additional_targets={'image1': 'image'})\n",
    "\n",
    "# front images for each id\n",
    "views = pd.read_csv(os.path.join(DF_ROOT, 'df', 'views.csv'), index_col=0)\n",
    "views.index = views.index.astype(str)\n",
    "views.filename = views.filename.apply(eval)\n",
    "\n",
    "# pairs including 50% of same identities\n",
    "pairs = pd.read_csv(os.path.join(DF_ROOT, 'df', 'pairs_test_fedor.csv'))\n",
    "pairs['id_1'] = pairs['id_1'].astype(int)\n",
    "pairs['id_2'] = pairs['id_2'].astype(int)\n",
    "\n",
    "lfw = TwinPairsDataset(TWINS_ROOT, pairs, views, transform=transform, keypoints=True)#, landmarks=True)\n",
    "print(len(lfw))"
   ]
  },
  {
   "cell_type": "code",
   "execution_count": 62,
   "metadata": {},
   "outputs": [],
   "source": [
    "pairst = pd.read_csv(os.path.join(DF_ROOT, 'df', 'pairs_train_fedor.csv'))\n",
    "pairst['id_1'] = pairst['id_1'].astype(int)\n",
    "pairst['id_2'] = pairst['id_2'].astype(int)"
   ]
  },
  {
   "cell_type": "code",
   "execution_count": 63,
   "metadata": {},
   "outputs": [
    {
     "data": {
      "text/plain": [
       "((149, 3), 0, 149)"
      ]
     },
     "execution_count": 63,
     "metadata": {},
     "output_type": "execute_result"
    }
   ],
   "source": [
    "pairs[pairs.label=='Same'].shape, len(np.intersect1d(pairst.id_1, pairs.id_1)), len(np.unique(pairs.id_1))"
   ]
  },
  {
   "cell_type": "code",
   "execution_count": 64,
   "metadata": {},
   "outputs": [
    {
     "data": {
      "text/html": [
       "<div>\n",
       "<style scoped>\n",
       "    .dataframe tbody tr th:only-of-type {\n",
       "        vertical-align: middle;\n",
       "    }\n",
       "\n",
       "    .dataframe tbody tr th {\n",
       "        vertical-align: top;\n",
       "    }\n",
       "\n",
       "    .dataframe thead th {\n",
       "        text-align: right;\n",
       "    }\n",
       "</style>\n",
       "<table border=\"1\" class=\"dataframe\">\n",
       "  <thead>\n",
       "    <tr style=\"text-align: right;\">\n",
       "      <th></th>\n",
       "      <th>id_1</th>\n",
       "      <th>id_2</th>\n",
       "      <th>label</th>\n",
       "    </tr>\n",
       "  </thead>\n",
       "  <tbody>\n",
       "    <tr>\n",
       "      <th>0</th>\n",
       "      <td>90360</td>\n",
       "      <td>90361</td>\n",
       "      <td>IdenticalTriplet</td>\n",
       "    </tr>\n",
       "    <tr>\n",
       "      <th>1</th>\n",
       "      <td>90360</td>\n",
       "      <td>90362</td>\n",
       "      <td>IdenticalTriplet</td>\n",
       "    </tr>\n",
       "    <tr>\n",
       "      <th>2</th>\n",
       "      <td>90361</td>\n",
       "      <td>90360</td>\n",
       "      <td>IdenticalTriplet</td>\n",
       "    </tr>\n",
       "    <tr>\n",
       "      <th>3</th>\n",
       "      <td>90361</td>\n",
       "      <td>90362</td>\n",
       "      <td>IdenticalTriplet</td>\n",
       "    </tr>\n",
       "    <tr>\n",
       "      <th>4</th>\n",
       "      <td>90362</td>\n",
       "      <td>90360</td>\n",
       "      <td>IdenticalTriplet</td>\n",
       "    </tr>\n",
       "  </tbody>\n",
       "</table>\n",
       "</div>"
      ],
      "text/plain": [
       "    id_1   id_2             label\n",
       "0  90360  90361  IdenticalTriplet\n",
       "1  90360  90362  IdenticalTriplet\n",
       "2  90361  90360  IdenticalTriplet\n",
       "3  90361  90362  IdenticalTriplet\n",
       "4  90362  90360  IdenticalTriplet"
      ]
     },
     "execution_count": 64,
     "metadata": {},
     "output_type": "execute_result"
    }
   ],
   "source": [
    "pairst.head()"
   ]
  },
  {
   "cell_type": "code",
   "execution_count": 65,
   "metadata": {},
   "outputs": [
    {
     "name": "stderr",
     "output_type": "stream",
     "text": [
      "/opt/conda/lib/python3.6/site-packages/ipykernel_launcher.py:2: SettingWithCopyWarning: \n",
      "A value is trying to be set on a copy of a slice from a DataFrame.\n",
      "Try using .loc[row_indexer,col_indexer] = value instead\n",
      "\n",
      "See the caveats in the documentation: http://pandas.pydata.org/pandas-docs/stable/indexing.html#indexing-view-versus-copy\n",
      "  \n"
     ]
    },
    {
     "data": {
      "text/plain": [
       "(286, 3)"
      ]
     },
     "execution_count": 65,
     "metadata": {},
     "output_type": "execute_result"
    }
   ],
   "source": [
    "views_train = views[views.subject_id.isin(pairst.id_1)]\n",
    "views_train['label']=range(views_train.shape[0])\n",
    "views_train.index = views_train.index.astype(str)\n",
    "views_train.shape"
   ]
  },
  {
   "cell_type": "code",
   "execution_count": 66,
   "metadata": {},
   "outputs": [
    {
     "name": "stdout",
     "output_type": "stream",
     "text": [
      "1716\n"
     ]
    }
   ],
   "source": [
    "# views_train = views[~views.subject_id.isin(pairs.id_1)]\n",
    "# views_train['label']=range(views_train.shape[0])\n",
    "# views_train = pd.read_csv(os.path.join(DF_ROOT, 'df', 'views_train_face.csv'), index_col=0)\n",
    "# views_train.index = views_train.index.astype(str)\n",
    "# views_train.filename = views_train.filename.apply(eval)\n",
    "\n",
    "dataset = ClassificationDataset(TWINS_ROOT, views_train, transform, keypoints=True)#, landmarks=True)\n",
    "print(len(dataset))\n",
    "train_loader = DataLoader(dataset, batch_size=args.train_batch_size, num_workers=4, shuffle=True)"
   ]
  },
  {
   "cell_type": "code",
   "execution_count": 67,
   "metadata": {
    "scrolled": true
   },
   "outputs": [],
   "source": [
    "# dataset = VGGFace2(args.train_data_root, args.train_list, args.train_landmarks)\n",
    "\n",
    "# if dataset.have_landmarks:\n",
    "#     print('Use alignment for the train data')\n",
    "#     dataset.transform = t.Compose([\n",
    "# #         augm.HorizontalFlipNumpy(p=.5),\n",
    "#                                    augm.CutOutWithPrior(p=0.05, max_area=0.1),\n",
    "#                                    augm.RandomRotationNumpy(10, p=.95),\n",
    "#                                    augm.ResizeNumpy(input_size),\n",
    "#                                    augm.BlurNumpy(k=5, p=.2),\n",
    "#                                    augm.NumpyToTensor(switch_rb=True)])\n",
    "# else:\n",
    "#     dataset.transform = t.Compose([augm.ResizeNumpy(input_size),\n",
    "# #                                    augm.HorizontalFlipNumpy(),\n",
    "#                                    augm.RandomRotationNumpy(10),\n",
    "#                                    augm.NumpyToTensor(switch_rb=True)])\n",
    "\n",
    "# if args.weighted:\n",
    "#     train_weights = dataset.get_weights()\n",
    "#     train_weights = torch.DoubleTensor(train_weights)\n",
    "#     sampler = torch.utils.data.sampler.WeightedRandomSampler(train_weights, len(train_weights))\n",
    "#     train_loader = torch.utils.data.DataLoader(dataset, batch_size=args.train_batch_size,\n",
    "#                                                sampler=sampler, num_workers=3, pin_memory=False)\n",
    "# else:\n",
    "#     train_loader = DataLoader(dataset, batch_size=args.train_batch_size, num_workers=4, shuffle=True)\n",
    "\n",
    "# # lfw = LFW(args.val_data_root, args.val_list, args.val_landmarks)\n",
    "# # if lfw.use_landmarks:\n",
    "# #     print('Use alignment for the test data')\n",
    "# #     lfw.transform = t.Compose([augm.ResizeNumpy(input_size),\n",
    "# #                                augm.NumpyToTensor(switch_rb=True)])\n",
    "# # else:\n",
    "# #     lfw.transform = t.Compose([augm.ResizeNumpy((160, 160)),\n",
    "# #                                augm.CenterCropNumpy(input_size),\n",
    "# #                                augm.NumpyToTensor(switch_rb=True)])\n"
   ]
  },
  {
   "cell_type": "code",
   "execution_count": 68,
   "metadata": {},
   "outputs": [],
   "source": [
    "# len(dataset.identities), len(dataset.samples_info)"
   ]
  },
  {
   "cell_type": "code",
   "execution_count": 69,
   "metadata": {},
   "outputs": [],
   "source": [
    "import cv2"
   ]
  },
  {
   "cell_type": "code",
   "execution_count": 70,
   "metadata": {},
   "outputs": [
    {
     "data": {
      "text/plain": [
       "<matplotlib.image.AxesImage at 0x7f3b442a8080>"
      ]
     },
     "execution_count": 70,
     "metadata": {},
     "output_type": "execute_result"
    },
    {
     "data": {
      "image/png": "[encoded data removed]",
      "text/plain": [
       "<Figure size 432x288 with 1 Axes>"
      ]
     },
     "metadata": {
      "needs_background": "light"
     },
     "output_type": "display_data"
    }
   ],
   "source": [
    "sample = dataset[70]['img']\n",
    "# f,a = plt.subplots(1,2)\n",
    "plt.imshow(sample.numpy().transpose(1,2,0))\n",
    "# a[1].imshow(sample[3:].numpy().transpose(1,2,0))"
   ]
  },
  {
   "cell_type": "code",
   "execution_count": 71,
   "metadata": {},
   "outputs": [
    {
     "name": "stdout",
     "output_type": "stream",
     "text": [
      "./logs/2019_05_31_04_34_res18_224_twins_rot\n"
     ]
    }
   ],
   "source": [
    "log_path = './logs/{:%Y_%m_%d_%H_%M}_{}'.format(datetime.datetime.now(), args.snap_prefix)\n",
    "print(log_path)\n",
    "# os.makedirs(log_path, exist_ok=True)\n",
    "writer = SummaryWriter(log_path)\n",
    "\n",
    "if not osp.exists(args.snap_folder):\n",
    "    os.mkdir(args.snap_folder)"
   ]
  },
  {
   "cell_type": "code",
   "execution_count": 72,
   "metadata": {},
   "outputs": [
    {
     "data": {
      "text/plain": [
       "[0, 1, 2]"
      ]
     },
     "execution_count": 72,
     "metadata": {},
     "output_type": "execute_result"
    }
   ],
   "source": [
    "args.devices"
   ]
  },
  {
   "cell_type": "markdown",
   "metadata": {},
   "source": [
    "### Model"
   ]
  },
  {
   "cell_type": "code",
   "execution_count": 73,
   "metadata": {},
   "outputs": [],
   "source": [
    "from model.resnet_angular import ResNetAngular, ResNetAngularKP\n",
    "from torchvision.models import resnet50, resnet18\n",
    "\n",
    "import torch.nn as nn\n",
    "import torch"
   ]
  },
  {
   "cell_type": "code",
   "execution_count": 74,
   "metadata": {},
   "outputs": [],
   "source": [
    "class Identity(nn.Module):\n",
    "    def __init__(self):\n",
    "        super(Identity, self).__init__()\n",
    "        \n",
    "    def forward(self, x):\n",
    "        return x\n",
    "\n",
    "backbone = resnet18(pretrained=True)\n",
    "backbone.avgpool = nn.AdaptiveAvgPool2d(1)\n",
    "# conv_weight = backbone.state_dict()['conv1.weight']\n",
    "# backbone.conv1 = nn.Conv2d(6, 64, kernel_size=(7, 7), stride=(2, 2), padding=(3, 3), bias=False)\n",
    "# backbone.conv1.weight.data=torch.cat([conv_weight, conv_weight], 1)\n",
    "backbone.fc = Identity()"
   ]
  },
  {
   "cell_type": "code",
   "execution_count": 75,
   "metadata": {},
   "outputs": [],
   "source": [
    "model = ResNetAngular(backbone, embedding_size=512, num_classes=dataset.get_num_classes(), feature=False)"
   ]
  },
  {
   "cell_type": "code",
   "execution_count": 90,
   "metadata": {},
   "outputs": [
    {
     "name": "stdout",
     "output_type": "stream",
     "text": [
      "Resuming snapshot snapshots/res18_224_twins_rot0.9076_0.7436507936507936.pt ...\n"
     ]
    }
   ],
   "source": [
    "# model = models_backbones[args.model](embedding_size=args.embed_size,\n",
    "#                                          num_classes=dataset.get_num_classes(), feature=False)\n",
    "if args.snap_to_resume is not None:\n",
    "    print('Resuming snapshot ' + args.snap_to_resume + ' ...')\n",
    "    model = load_model_state(model, args.snap_to_resume, args.devices[0], eval_state=False)\n",
    "    model = torch.nn.DataParallel(model, device_ids=args.devices)\n",
    "else:\n",
    "    model = torch.nn.DataParallel(model, device_ids=args.devices, output_device=args.devices[0])\n",
    "    model.cuda()\n",
    "    model.train()\n",
    "    cudnn.benchmark = True\n",
    "\n",
    "# print('Face Recognition model:')\n",
    "# print(model)"
   ]
  },
  {
   "cell_type": "code",
   "execution_count": 77,
   "metadata": {},
   "outputs": [],
   "source": [
    "if args.mining_type == 'focal':\n",
    "    softmax_criterion = AMSoftmaxLoss(gamma=args.gamma, m=args.m, margin_type=args.margin_type, s=args.s)\n",
    "else:\n",
    "    softmax_criterion = AMSoftmaxLoss(t=args.t, m=0.35, margin_type=args.margin_type, s=args.s)\n",
    "aux_losses = MetricLosses(dataset.get_num_classes(), args.embed_size, writer)\n",
    "optimizer = optim.Adam(model.parameters(), lr=1e-4)\n",
    "scheduler = optim.lr_scheduler.MultiStepLR(optimizer, [3, 6, 9, 13])"
   ]
  },
  {
   "cell_type": "code",
   "execution_count": 78,
   "metadata": {},
   "outputs": [
    {
     "data": {
      "text/plain": [
       "(dict_keys(['img', 'label', 'instance', 'kp']),\n",
       " dict_keys(['img1', 'img2', 'is_same', 'id0', 'id1', 'kp1', 'kp2']))"
      ]
     },
     "execution_count": 78,
     "metadata": {},
     "output_type": "execute_result"
    }
   ],
   "source": [
    "sample = next(iter(train_loader))\n",
    "sample_val =lfw[0]\n",
    "sample.keys(), sample_val.keys()"
   ]
  },
  {
   "cell_type": "code",
   "execution_count": 79,
   "metadata": {
    "scrolled": true
   },
   "outputs": [
    {
     "name": "stderr",
     "output_type": "stream",
     "text": [
      "Computing embeddings: 100%|██████████| 14/14 [00:02<00:00,  3.78it/s]\n"
     ]
    },
    {
     "name": "stdout",
     "output_type": "stream",
     "text": [
      "Validation accuracy: 0.8176, 0.3225\n",
      "Validation accuracy mean: 0.5652, 0.0621\n",
      "Validation AUC: 0.7704\n",
      "Iteration 0, Softmax loss: 36.2142, Total loss: 36.2142, Acc: 0.0000\n",
      "Iteration 10, Softmax loss: 35.1943, Total loss: 35.1943, Acc: 0.0398\n",
      "Iteration 20, Softmax loss: 33.8788, Total loss: 33.8788, Acc: 0.1268\n",
      "Iteration 22, Softmax loss: 33.4258, Total loss: 33.4258, Acc: 0.4875\n",
      "Iteration 32, Softmax loss: 32.4145, Total loss: 32.4145, Acc: 0.6102\n",
      "Iteration 42, Softmax loss: 31.0911, Total loss: 31.0911, Acc: 0.6911\n",
      "Iteration 44, Softmax loss: 30.5024, Total loss: 30.5024, Acc: 0.9500\n"
     ]
    },
    {
     "name": "stderr",
     "output_type": "stream",
     "text": [
      "Computing embeddings: 100%|██████████| 14/14 [00:01<00:00,  7.79it/s]\n"
     ]
    },
    {
     "name": "stdout",
     "output_type": "stream",
     "text": [
      "Validation accuracy: 0.8247, 0.5451\n",
      "Validation accuracy mean: 0.6779, 0.1183\n",
      "Validation AUC: 0.8635\n",
      "Iteration 54, Softmax loss: 30.6102, Total loss: 30.6102, Acc: 0.9080\n",
      "Iteration 64, Softmax loss: 29.8064, Total loss: 29.8064, Acc: 0.9214\n",
      "Iteration 66, Softmax loss: 28.7956, Total loss: 28.7956, Acc: 0.9375\n",
      "Iteration 76, Softmax loss: 28.6760, Total loss: 28.6760, Acc: 0.9591\n",
      "Iteration 86, Softmax loss: 28.6995, Total loss: 28.6995, Acc: 0.9589\n",
      "Iteration 88, Softmax loss: 28.8857, Total loss: 28.8857, Acc: 0.9500\n",
      "Iteration 98, Softmax loss: 28.5176, Total loss: 28.5176, Acc: 0.9716\n"
     ]
    },
    {
     "name": "stderr",
     "output_type": "stream",
     "text": [
      "Computing embeddings: 100%|██████████| 14/14 [00:01<00:00,  7.70it/s]\n"
     ]
    },
    {
     "name": "stdout",
     "output_type": "stream",
     "text": [
      "Validation accuracy: 0.8242, 0.5445\n",
      "Validation accuracy mean: 0.6776, 0.1246\n",
      "Validation AUC: 0.8950\n",
      "Iteration 108, Softmax loss: 28.6973, Total loss: 28.6973, Acc: 0.9714\n",
      "Iteration 110, Softmax loss: 28.3425, Total loss: 28.3425, Acc: 0.9625\n",
      "Iteration 120, Softmax loss: 28.3296, Total loss: 28.3296, Acc: 0.9693\n",
      "Iteration 130, Softmax loss: 28.4048, Total loss: 28.4048, Acc: 0.9720\n",
      "Iteration 132, Softmax loss: 28.2254, Total loss: 28.2254, Acc: 0.9625\n",
      "Iteration 142, Softmax loss: 28.3681, Total loss: 28.3681, Acc: 0.9784\n"
     ]
    },
    {
     "name": "stderr",
     "output_type": "stream",
     "text": [
      "Computing embeddings: 100%|██████████| 14/14 [00:01<00:00,  7.79it/s]\n"
     ]
    },
    {
     "name": "stdout",
     "output_type": "stream",
     "text": [
      "Validation accuracy: 0.8621, 0.5824\n",
      "Validation accuracy mean: 0.7144, 0.1271\n",
      "Validation AUC: 0.9046\n",
      "Iteration 152, Softmax loss: 28.4219, Total loss: 28.4219, Acc: 0.9810\n",
      "Iteration 154, Softmax loss: 28.2916, Total loss: 28.2916, Acc: 0.9625\n",
      "Iteration 164, Softmax loss: 28.5160, Total loss: 28.5160, Acc: 0.9716\n",
      "Iteration 174, Softmax loss: 28.3796, Total loss: 28.3796, Acc: 0.9756\n",
      "Iteration 176, Softmax loss: 28.6161, Total loss: 28.6161, Acc: 0.9625\n",
      "Iteration 186, Softmax loss: 28.5396, Total loss: 28.5396, Acc: 0.9784\n",
      "Iteration 196, Softmax loss: 28.7067, Total loss: 28.7067, Acc: 0.9815\n"
     ]
    },
    {
     "name": "stderr",
     "output_type": "stream",
     "text": [
      "\r",
      "Computing embeddings:   0%|          | 0/14 [00:00<?, ?it/s]"
     ]
    },
    {
     "name": "stdout",
     "output_type": "stream",
     "text": [
      "Iteration 198, Softmax loss: 28.7271, Total loss: 28.7271, Acc: 0.9750\n"
     ]
    },
    {
     "name": "stderr",
     "output_type": "stream",
     "text": [
      "Computing embeddings: 100%|██████████| 14/14 [00:01<00:00,  7.92it/s]\n"
     ]
    },
    {
     "name": "stdout",
     "output_type": "stream",
     "text": [
      "Validation accuracy: 0.8181, 0.6418\n",
      "Validation accuracy mean: 0.7218, 0.1220\n",
      "Validation AUC: 0.9055\n",
      "Iteration 208, Softmax loss: 28.4998, Total loss: 28.4998, Acc: 0.9773\n",
      "Iteration 218, Softmax loss: 27.9662, Total loss: 27.9662, Acc: 0.9750\n",
      "Iteration 220, Softmax loss: 28.3944, Total loss: 28.3944, Acc: 0.9875\n",
      "Iteration 230, Softmax loss: 28.8077, Total loss: 28.8077, Acc: 0.9795\n",
      "Iteration 240, Softmax loss: 28.1741, Total loss: 28.1741, Acc: 0.9804\n",
      "Iteration 242, Softmax loss: 28.6155, Total loss: 28.6155, Acc: 0.9625\n"
     ]
    },
    {
     "name": "stderr",
     "output_type": "stream",
     "text": [
      "Computing embeddings: 100%|██████████| 14/14 [00:01<00:00,  7.65it/s]\n"
     ]
    },
    {
     "name": "stdout",
     "output_type": "stream",
     "text": [
      "Validation accuracy: 0.9055, 0.5198\n",
      "Validation accuracy mean: 0.7061, 0.1349\n",
      "Validation AUC: 0.9067\n",
      "Iteration 252, Softmax loss: 28.0115, Total loss: 28.0115, Acc: 0.9761\n",
      "Iteration 262, Softmax loss: 27.7276, Total loss: 27.7276, Acc: 0.9786\n",
      "Iteration 264, Softmax loss: 28.2221, Total loss: 28.2221, Acc: 0.9875\n",
      "Iteration 274, Softmax loss: 28.2322, Total loss: 28.2322, Acc: 0.9807\n",
      "Iteration 284, Softmax loss: 28.1656, Total loss: 28.1656, Acc: 0.9768\n",
      "Iteration 286, Softmax loss: 28.6894, Total loss: 28.6894, Acc: 0.9750\n",
      "Iteration 296, Softmax loss: 28.1912, Total loss: 28.1912, Acc: 0.9830\n"
     ]
    },
    {
     "name": "stderr",
     "output_type": "stream",
     "text": [
      "Computing embeddings: 100%|██████████| 14/14 [00:01<00:00,  6.28it/s]\n"
     ]
    },
    {
     "name": "stdout",
     "output_type": "stream",
     "text": [
      "Validation accuracy: 0.9126, 0.4181\n",
      "Validation accuracy mean: 0.6593, 0.1372\n",
      "Validation AUC: 0.9052\n",
      "Iteration 306, Softmax loss: 27.7857, Total loss: 27.7857, Acc: 0.9827\n",
      "Iteration 308, Softmax loss: 28.1051, Total loss: 28.1051, Acc: 0.9875\n",
      "Iteration 318, Softmax loss: 28.4696, Total loss: 28.4696, Acc: 0.9818\n",
      "Iteration 328, Softmax loss: 27.8768, Total loss: 27.8768, Acc: 0.9774\n",
      "Iteration 330, Softmax loss: 27.9967, Total loss: 27.9967, Acc: 0.9625\n",
      "Iteration 340, Softmax loss: 28.2105, Total loss: 28.2105, Acc: 0.9750\n"
     ]
    },
    {
     "name": "stderr",
     "output_type": "stream",
     "text": [
      "Computing embeddings: 100%|██████████| 14/14 [00:01<00:00,  7.77it/s]\n"
     ]
    },
    {
     "name": "stdout",
     "output_type": "stream",
     "text": [
      "Validation accuracy: 0.7445, 0.6319\n",
      "Validation accuracy mean: 0.6813, 0.1173\n",
      "Validation AUC: 0.9041\n",
      "Iteration 350, Softmax loss: 27.7099, Total loss: 27.7099, Acc: 0.9810\n",
      "Iteration 352, Softmax loss: 28.2337, Total loss: 28.2337, Acc: 0.9625\n",
      "Iteration 362, Softmax loss: 28.2789, Total loss: 28.2789, Acc: 0.9773\n",
      "Iteration 372, Softmax loss: 28.7342, Total loss: 28.7342, Acc: 0.9768\n",
      "Iteration 374, Softmax loss: 28.1521, Total loss: 28.1521, Acc: 1.0000\n",
      "Iteration 384, Softmax loss: 28.2667, Total loss: 28.2667, Acc: 0.9693\n",
      "Iteration 394, Softmax loss: 27.9574, Total loss: 27.9574, Acc: 0.9780\n",
      "Iteration 396, Softmax loss: 28.4231, Total loss: 28.4231, Acc: 0.9125\n"
     ]
    },
    {
     "name": "stderr",
     "output_type": "stream",
     "text": [
      "Computing embeddings: 100%|██████████| 14/14 [00:01<00:00,  7.66it/s]\n"
     ]
    },
    {
     "name": "stdout",
     "output_type": "stream",
     "text": [
      "Validation accuracy: 0.8016, 0.6335\n",
      "Validation accuracy mean: 0.7103, 0.1217\n",
      "Validation AUC: 0.9024\n",
      "Iteration 406, Softmax loss: 28.3641, Total loss: 28.3641, Acc: 0.9727\n",
      "Iteration 416, Softmax loss: 28.2857, Total loss: 28.2857, Acc: 0.9756\n"
     ]
    },
    {
     "name": "stderr",
     "output_type": "stream",
     "text": [
      "Process Process-317:\n",
      "Process Process-319:\n",
      "Traceback (most recent call last):\n",
      "  File \"/opt/conda/lib/python3.6/multiprocessing/process.py\", line 258, in _bootstrap\n",
      "    self.run()\n",
      "Process Process-320:\n",
      "Traceback (most recent call last):\n",
      "Process Process-318:\n",
      "  File \"/opt/conda/lib/python3.6/multiprocessing/process.py\", line 93, in run\n",
      "    self._target(*self._args, **self._kwargs)\n",
      "  File \"/opt/conda/lib/python3.6/multiprocessing/process.py\", line 258, in _bootstrap\n",
      "    self.run()\n",
      "  File \"/opt/conda/lib/python3.6/site-packages/torch/utils/data/dataloader.py\", line 106, in _worker_loop\n",
      "    samples = collate_fn([dataset[i] for i in batch_indices])\n",
      "  File \"/opt/conda/lib/python3.6/multiprocessing/process.py\", line 93, in run\n",
      "    self._target(*self._args, **self._kwargs)\n",
      "Traceback (most recent call last):\n",
      "  File \"/opt/conda/lib/python3.6/site-packages/torch/utils/data/dataloader.py\", line 106, in <listcomp>\n",
      "    samples = collate_fn([dataset[i] for i in batch_indices])\n",
      "  File \"/opt/conda/lib/python3.6/site-packages/torch/utils/data/dataloader.py\", line 106, in _worker_loop\n",
      "    samples = collate_fn([dataset[i] for i in batch_indices])\n",
      "  File \"/opt/conda/lib/python3.6/multiprocessing/process.py\", line 258, in _bootstrap\n",
      "    self.run()\n",
      "  File \"/home/user/repos/face_recognition.pytorch/datasets/twins.py\", line 133, in __getitem__\n",
      "    img, kp = get_image_and_landmarks(self.dataroot, f'{subject_id}/{view}')\n",
      "Traceback (most recent call last):\n",
      "  File \"/opt/conda/lib/python3.6/site-packages/torch/utils/data/dataloader.py\", line 106, in <listcomp>\n",
      "    samples = collate_fn([dataset[i] for i in batch_indices])\n",
      "  File \"/opt/conda/lib/python3.6/multiprocessing/process.py\", line 93, in run\n",
      "    self._target(*self._args, **self._kwargs)\n",
      "  File \"/home/user/repos/face_recognition.pytorch/datasets/twins.py\", line 23, in get_image_and_landmarks\n",
      "    img = imread(os.path.join(data_path, image_rel_path))\n",
      "  File \"/home/user/repos/face_recognition.pytorch/datasets/twins.py\", line 143, in __getitem__\n",
      "    sample = self.transform(**sample)\n",
      "  File \"/opt/conda/lib/python3.6/multiprocessing/process.py\", line 258, in _bootstrap\n",
      "    self.run()\n",
      "  File \"/opt/conda/lib/python3.6/site-packages/torch/utils/data/dataloader.py\", line 106, in _worker_loop\n",
      "    samples = collate_fn([dataset[i] for i in batch_indices])\n",
      "  File \"/home/user/repos/face_recognition.pytorch/datasets/twins.py\", line 27, in imread\n",
      "    img = cv2.imread(os.path.join(path))\n",
      "  File \"/opt/conda/lib/python3.6/site-packages/albumentations/core/composition.py\", line 171, in __call__\n",
      "    data = t(force_apply=force_apply, **data)\n",
      "  File \"/opt/conda/lib/python3.6/site-packages/torch/utils/data/dataloader.py\", line 106, in <listcomp>\n",
      "    samples = collate_fn([dataset[i] for i in batch_indices])\n",
      "  File \"/opt/conda/lib/python3.6/multiprocessing/process.py\", line 93, in run\n",
      "    self._target(*self._args, **self._kwargs)\n",
      "KeyboardInterrupt\n",
      "  File \"/opt/conda/lib/python3.6/site-packages/albumentations/core/transforms_interface.py\", line 58, in __call__\n",
      "    res[key] = target_function(arg, **dict(params, **target_dependencies))\n",
      "  File \"/opt/conda/lib/python3.6/site-packages/torch/utils/data/dataloader.py\", line 106, in _worker_loop\n",
      "    samples = collate_fn([dataset[i] for i in batch_indices])\n",
      "  File \"/home/user/repos/face_recognition.pytorch/datasets/twins.py\", line 133, in __getitem__\n",
      "    img, kp = get_image_and_landmarks(self.dataroot, f'{subject_id}/{view}')\n",
      "  File \"/opt/conda/lib/python3.6/site-packages/albumentations/augmentations/transforms.py\", line 299, in apply\n",
      "    return F.resize(img, height=self.height, width=self.width, interpolation=interpolation)\n",
      "  File \"/opt/conda/lib/python3.6/site-packages/torch/utils/data/dataloader.py\", line 106, in <listcomp>\n",
      "    samples = collate_fn([dataset[i] for i in batch_indices])\n",
      "  File \"/opt/conda/lib/python3.6/site-packages/albumentations/augmentations/functional.py\", line 52, in wrapped_function\n",
      "    result = func(img, *args, **kwargs)\n",
      "  File \"/home/user/repos/face_recognition.pytorch/datasets/twins.py\", line 23, in get_image_and_landmarks\n",
      "    img = imread(os.path.join(data_path, image_rel_path))\n",
      "  File \"/home/user/repos/face_recognition.pytorch/datasets/twins.py\", line 133, in __getitem__\n",
      "    img, kp = get_image_and_landmarks(self.dataroot, f'{subject_id}/{view}')\n",
      "  File \"/opt/conda/lib/python3.6/site-packages/albumentations/augmentations/functional.py\", line 151, in resize\n",
      "    img = cv2.resize(img, (width, height), interpolation=interpolation)\n",
      "  File \"/home/user/repos/face_recognition.pytorch/datasets/twins.py\", line 23, in get_image_and_landmarks\n",
      "    img = imread(os.path.join(data_path, image_rel_path))\n",
      "  File \"/home/user/repos/face_recognition.pytorch/datasets/twins.py\", line 27, in imread\n",
      "    img = cv2.imread(os.path.join(path))\n",
      "KeyboardInterrupt\n",
      "KeyboardInterrupt\n",
      "  File \"/home/user/repos/face_recognition.pytorch/datasets/twins.py\", line 27, in imread\n",
      "    img = cv2.imread(os.path.join(path))\n",
      "KeyboardInterrupt\n"
     ]
    },
    {
     "ename": "KeyboardInterrupt",
     "evalue": "",
     "output_type": "error",
     "traceback": [
      "\u001b[0;31m---------------------------------------------------------------------------\u001b[0m",
      "\u001b[0;31mKeyboardInterrupt\u001b[0m                         Traceback (most recent call last)",
      "\u001b[0;32m<ipython-input-79-9861436096e3>\u001b[0m in \u001b[0;36m<module>\u001b[0;34m\u001b[0m\n\u001b[1;32m     54\u001b[0m         \u001b[0m_\u001b[0m\u001b[0;34m,\u001b[0m \u001b[0mpredicted\u001b[0m \u001b[0;34m=\u001b[0m \u001b[0mtorch\u001b[0m\u001b[0;34m.\u001b[0m\u001b[0mmax\u001b[0m\u001b[0;34m(\u001b[0m\u001b[0msm_outputs\u001b[0m\u001b[0;34m.\u001b[0m\u001b[0mdata\u001b[0m\u001b[0;34m,\u001b[0m \u001b[0;36m1\u001b[0m\u001b[0;34m)\u001b[0m\u001b[0;34m\u001b[0m\u001b[0m\n\u001b[1;32m     55\u001b[0m         \u001b[0mclassification_total\u001b[0m \u001b[0;34m+=\u001b[0m \u001b[0mint\u001b[0m\u001b[0;34m(\u001b[0m\u001b[0mlabel\u001b[0m\u001b[0;34m.\u001b[0m\u001b[0msize\u001b[0m\u001b[0;34m(\u001b[0m\u001b[0;36m0\u001b[0m\u001b[0;34m)\u001b[0m\u001b[0;34m)\u001b[0m\u001b[0;34m\u001b[0m\u001b[0m\n\u001b[0;32m---> 56\u001b[0;31m         \u001b[0mclassification_correct\u001b[0m \u001b[0;34m+=\u001b[0m \u001b[0mint\u001b[0m\u001b[0;34m(\u001b[0m\u001b[0mtorch\u001b[0m\u001b[0;34m.\u001b[0m\u001b[0msum\u001b[0m\u001b[0;34m(\u001b[0m\u001b[0mpredicted\u001b[0m\u001b[0;34m.\u001b[0m\u001b[0meq\u001b[0m\u001b[0;34m(\u001b[0m\u001b[0mlabel\u001b[0m\u001b[0;34m)\u001b[0m\u001b[0;34m)\u001b[0m\u001b[0;34m)\u001b[0m\u001b[0;34m\u001b[0m\u001b[0m\n\u001b[0m\u001b[1;32m     57\u001b[0m         \u001b[0mtrain_acc\u001b[0m \u001b[0;34m=\u001b[0m \u001b[0mfloat\u001b[0m\u001b[0;34m(\u001b[0m\u001b[0mclassification_correct\u001b[0m\u001b[0;34m)\u001b[0m \u001b[0;34m/\u001b[0m \u001b[0mclassification_total\u001b[0m\u001b[0;34m\u001b[0m\u001b[0m\n\u001b[1;32m     58\u001b[0m \u001b[0;34m\u001b[0m\u001b[0m\n",
      "\u001b[0;31mKeyboardInterrupt\u001b[0m: "
     ]
    }
   ],
   "source": [
    "best_auc=0\n",
    "\n",
    "for epoch_num in range(args.epoch_total_num):\n",
    "    scheduler.step()\n",
    "    if epoch_num > 6:\n",
    "        model.module.set_dropout_ratio(0.)\n",
    "    classification_correct = 0\n",
    "    classification_total = 0\n",
    "\n",
    "    for i, data in enumerate(train_loader, 0):\n",
    "        iteration = epoch_num * len(train_loader) + i\n",
    "\n",
    "        if iteration % args.val_step == 0:\n",
    "#             snapshot_name = osp.join(args.snap_folder, args.snap_prefix + '_{0}.pt'.format(iteration))\n",
    "#             if iteration > 0:\n",
    "#                 print('Saving Snapshot: ' + snapshot_name)\n",
    "#                 save_model_cpu(model, optimizer, snapshot_name, epoch_num)\n",
    "\n",
    "#             print('Evaluating Snapshot: ' + snapshot_name)\n",
    "            model.eval()\n",
    "            same_acc, diff_acc, all_acc, auc, t = evaluate(args, lfw, model, compute_embeddings_lfw,\n",
    "                                                        args.val_batch_size, verbose=False)\n",
    "            if auc>best_auc and same_acc>0.65 and diff_acc>0.65:\n",
    "                best_auc = auc\n",
    "                snapshot_name = osp.join(args.snap_folder, args.snap_prefix + f'{auc:.4f}_{all_acc}.pt')\n",
    "                print('Saving Snapshot: ' + snapshot_name)\n",
    "                save_model_cpu(model, optimizer, snapshot_name, epoch_num)\n",
    "\n",
    "            model.train()\n",
    "\n",
    "            print('Validation accuracy: {0:.4f}, {1:.4f}'.format(same_acc, diff_acc))\n",
    "            print('Validation accuracy mean: {0:.4f}, {1:.4f}'.format(all_acc, t))\n",
    "            print('Validation AUC: {0:.4f}'.format(auc))\n",
    "            writer.add_scalar('Accuracy/Val_same_accuracy', same_acc, iteration)\n",
    "            writer.add_scalar('Accuracy/Val_diff_accuracy', diff_acc, iteration)\n",
    "            writer.add_scalar('Accuracy/Val_accuracy', all_acc, iteration)\n",
    "            writer.add_scalar('Accuracy/AUC', auc, iteration)\n",
    "\n",
    "        data, label = data['img'], data['label'].cuda()\n",
    "#         data, label, kp = data['img'], data['label'].cuda(), data['kp'].cuda()\n",
    "#         kp = data['kp'].cuda()\n",
    "        features, sm_outputs = model(data)\n",
    "#         features, sm_outputs = model(data, kp)\n",
    "\n",
    "        optimizer.zero_grad()\n",
    "        aux_losses.init_iteration()\n",
    "        aux_loss, aux_log = aux_losses(features, label, epoch_num, iteration)\n",
    "        loss_sm = softmax_criterion(sm_outputs, label)\n",
    "        loss = loss_sm + aux_loss\n",
    "        loss.backward()\n",
    "        aux_losses.end_iteration()\n",
    "        optimizer.step()\n",
    "\n",
    "        _, predicted = torch.max(sm_outputs.data, 1)\n",
    "        classification_total += int(label.size(0))\n",
    "        classification_correct += int(torch.sum(predicted.eq(label)))\n",
    "        train_acc = float(classification_correct) / classification_total\n",
    "\n",
    "        if i % 10 == 0:\n",
    "            print('Iteration %d, Softmax loss: %.4f, Total loss: %.4f, Acc: %.4f' % (iteration, loss_sm, loss, train_acc) + aux_log)\n",
    "#             print('Learning rate: %f' % scheduler.get_lr()[0])\n",
    "            writer.add_scalar('Loss/train_loss', loss, iteration)\n",
    "            writer.add_scalar('Loss/softmax_loss', loss_sm, iteration)\n",
    "#             writer.add_scalar('Learning_rate', scheduler.get_lr()[0], iteration)\n",
    "            writer.add_scalar('Accuracy/classification', train_acc, iteration)"
   ]
  },
  {
   "cell_type": "code",
   "execution_count": 80,
   "metadata": {
    "scrolled": true
   },
   "outputs": [
    {
     "name": "stderr",
     "output_type": "stream",
     "text": [
      "Computing embeddings: 100%|██████████| 277/277 [00:04<00:00, 62.01it/s]\n",
      " evaluation: 100%|██████████| 10/10 [00:00<00:00, 30.36it/s]"
     ]
    },
    {
     "name": "stdout",
     "output_type": "stream",
     "text": [
      "Accuracy/Val_same_accuracy mean: 0.8033\n",
      "Accuracy/Val_diff_accuracy mean: 0.6198\n",
      "Accuracy/Val_accuracy mean: 0.7037\n",
      "Accuracy/Val_accuracy std dev: 0.0932\n",
      "AUC: 0.8917\n",
      "Estimated threshold: 0.1206\n"
     ]
    },
    {
     "name": "stderr",
     "output_type": "stream",
     "text": [
      "\n"
     ]
    }
   ],
   "source": [
    "model.eval()\n",
    "same_acc, diff_acc, all_acc, auc,t = evaluate(args, lfw, model, compute_embeddings_lfw, 1, verbose=True)"
   ]
  },
  {
   "cell_type": "code",
   "execution_count": 92,
   "metadata": {
    "scrolled": true
   },
   "outputs": [
    {
     "data": {
      "text/plain": [
       "DataParallel(\n",
       "  (module): DataParallel(\n",
       "    (module): ResNetAngular(\n",
       "      (model): ResNet(\n",
       "        (conv1): Conv2d(3, 64, kernel_size=(7, 7), stride=(2, 2), padding=(3, 3), bias=False)\n",
       "        (bn1): BatchNorm2d(64, eps=1e-05, momentum=0.1, affine=True, track_running_stats=True)\n",
       "        (relu): ReLU(inplace)\n",
       "        (maxpool): MaxPool2d(kernel_size=3, stride=2, padding=1, dilation=1, ceil_mode=False)\n",
       "        (layer1): Sequential(\n",
       "          (0): BasicBlock(\n",
       "            (conv1): Conv2d(64, 64, kernel_size=(3, 3), stride=(1, 1), padding=(1, 1), bias=False)\n",
       "            (bn1): BatchNorm2d(64, eps=1e-05, momentum=0.1, affine=True, track_running_stats=True)\n",
       "            (relu): ReLU(inplace)\n",
       "            (conv2): Conv2d(64, 64, kernel_size=(3, 3), stride=(1, 1), padding=(1, 1), bias=False)\n",
       "            (bn2): BatchNorm2d(64, eps=1e-05, momentum=0.1, affine=True, track_running_stats=True)\n",
       "          )\n",
       "          (1): BasicBlock(\n",
       "            (conv1): Conv2d(64, 64, kernel_size=(3, 3), stride=(1, 1), padding=(1, 1), bias=False)\n",
       "            (bn1): BatchNorm2d(64, eps=1e-05, momentum=0.1, affine=True, track_running_stats=True)\n",
       "            (relu): ReLU(inplace)\n",
       "            (conv2): Conv2d(64, 64, kernel_size=(3, 3), stride=(1, 1), padding=(1, 1), bias=False)\n",
       "            (bn2): BatchNorm2d(64, eps=1e-05, momentum=0.1, affine=True, track_running_stats=True)\n",
       "          )\n",
       "        )\n",
       "        (layer2): Sequential(\n",
       "          (0): BasicBlock(\n",
       "            (conv1): Conv2d(64, 128, kernel_size=(3, 3), stride=(2, 2), padding=(1, 1), bias=False)\n",
       "            (bn1): BatchNorm2d(128, eps=1e-05, momentum=0.1, affine=True, track_running_stats=True)\n",
       "            (relu): ReLU(inplace)\n",
       "            (conv2): Conv2d(128, 128, kernel_size=(3, 3), stride=(1, 1), padding=(1, 1), bias=False)\n",
       "            (bn2): BatchNorm2d(128, eps=1e-05, momentum=0.1, affine=True, track_running_stats=True)\n",
       "            (downsample): Sequential(\n",
       "              (0): Conv2d(64, 128, kernel_size=(1, 1), stride=(2, 2), bias=False)\n",
       "              (1): BatchNorm2d(128, eps=1e-05, momentum=0.1, affine=True, track_running_stats=True)\n",
       "            )\n",
       "          )\n",
       "          (1): BasicBlock(\n",
       "            (conv1): Conv2d(128, 128, kernel_size=(3, 3), stride=(1, 1), padding=(1, 1), bias=False)\n",
       "            (bn1): BatchNorm2d(128, eps=1e-05, momentum=0.1, affine=True, track_running_stats=True)\n",
       "            (relu): ReLU(inplace)\n",
       "            (conv2): Conv2d(128, 128, kernel_size=(3, 3), stride=(1, 1), padding=(1, 1), bias=False)\n",
       "            (bn2): BatchNorm2d(128, eps=1e-05, momentum=0.1, affine=True, track_running_stats=True)\n",
       "          )\n",
       "        )\n",
       "        (layer3): Sequential(\n",
       "          (0): BasicBlock(\n",
       "            (conv1): Conv2d(128, 256, kernel_size=(3, 3), stride=(2, 2), padding=(1, 1), bias=False)\n",
       "            (bn1): BatchNorm2d(256, eps=1e-05, momentum=0.1, affine=True, track_running_stats=True)\n",
       "            (relu): ReLU(inplace)\n",
       "            (conv2): Conv2d(256, 256, kernel_size=(3, 3), stride=(1, 1), padding=(1, 1), bias=False)\n",
       "            (bn2): BatchNorm2d(256, eps=1e-05, momentum=0.1, affine=True, track_running_stats=True)\n",
       "            (downsample): Sequential(\n",
       "              (0): Conv2d(128, 256, kernel_size=(1, 1), stride=(2, 2), bias=False)\n",
       "              (1): BatchNorm2d(256, eps=1e-05, momentum=0.1, affine=True, track_running_stats=True)\n",
       "            )\n",
       "          )\n",
       "          (1): BasicBlock(\n",
       "            (conv1): Conv2d(256, 256, kernel_size=(3, 3), stride=(1, 1), padding=(1, 1), bias=False)\n",
       "            (bn1): BatchNorm2d(256, eps=1e-05, momentum=0.1, affine=True, track_running_stats=True)\n",
       "            (relu): ReLU(inplace)\n",
       "            (conv2): Conv2d(256, 256, kernel_size=(3, 3), stride=(1, 1), padding=(1, 1), bias=False)\n",
       "            (bn2): BatchNorm2d(256, eps=1e-05, momentum=0.1, affine=True, track_running_stats=True)\n",
       "          )\n",
       "        )\n",
       "        (layer4): Sequential(\n",
       "          (0): BasicBlock(\n",
       "            (conv1): Conv2d(256, 512, kernel_size=(3, 3), stride=(2, 2), padding=(1, 1), bias=False)\n",
       "            (bn1): BatchNorm2d(512, eps=1e-05, momentum=0.1, affine=True, track_running_stats=True)\n",
       "            (relu): ReLU(inplace)\n",
       "            (conv2): Conv2d(512, 512, kernel_size=(3, 3), stride=(1, 1), padding=(1, 1), bias=False)\n",
       "            (bn2): BatchNorm2d(512, eps=1e-05, momentum=0.1, affine=True, track_running_stats=True)\n",
       "            (downsample): Sequential(\n",
       "              (0): Conv2d(256, 512, kernel_size=(1, 1), stride=(2, 2), bias=False)\n",
       "              (1): BatchNorm2d(512, eps=1e-05, momentum=0.1, affine=True, track_running_stats=True)\n",
       "            )\n",
       "          )\n",
       "          (1): BasicBlock(\n",
       "            (conv1): Conv2d(512, 512, kernel_size=(3, 3), stride=(1, 1), padding=(1, 1), bias=False)\n",
       "            (bn1): BatchNorm2d(512, eps=1e-05, momentum=0.1, affine=True, track_running_stats=True)\n",
       "            (relu): ReLU(inplace)\n",
       "            (conv2): Conv2d(512, 512, kernel_size=(3, 3), stride=(1, 1), padding=(1, 1), bias=False)\n",
       "            (bn2): BatchNorm2d(512, eps=1e-05, momentum=0.1, affine=True, track_running_stats=True)\n",
       "          )\n",
       "        )\n",
       "        (avgpool): AdaptiveAvgPool2d(output_size=1)\n",
       "        (fc): Identity()\n",
       "      )\n",
       "      (dropout): Dropout(p=0.1)\n",
       "      (fc_angular): AngleSimpleLinear()\n",
       "    )\n",
       "  )\n",
       ")"
      ]
     },
     "execution_count": 92,
     "metadata": {},
     "output_type": "execute_result"
    }
   ],
   "source": [
    "model.eval()"
   ]
  },
  {
   "cell_type": "code",
   "execution_count": 93,
   "metadata": {},
   "outputs": [
    {
     "name": "stderr",
     "output_type": "stream",
     "text": [
      "Computing embeddings: 100%|██████████| 277/277 [00:05<00:00, 48.96it/s]\n"
     ]
    }
   ],
   "source": [
    "scores_with_gt = compute_embeddings_lfw(args, lfw, model, 1, dump_embeddings=False)"
   ]
  },
  {
   "cell_type": "code",
   "execution_count": 94,
   "metadata": {},
   "outputs": [],
   "source": [
    "from sklearn.metrics import roc_auc_score"
   ]
  },
  {
   "cell_type": "code",
   "execution_count": 98,
   "metadata": {},
   "outputs": [
    {
     "data": {
      "text/plain": [
       "0.8269714765100671"
      ]
     },
     "execution_count": 98,
     "metadata": {},
     "output_type": "execute_result"
    }
   ],
   "source": [
    "roc_auc_score(gt, 1-np.array(scores))"
   ]
  },
  {
   "cell_type": "code",
   "execution_count": 96,
   "metadata": {},
   "outputs": [],
   "source": [
    "scores = [s['score'] for s in scores_with_gt]\n",
    "gt = [s['is_same'].item() for s in scores_with_gt]"
   ]
  },
  {
   "cell_type": "code",
   "execution_count": 97,
   "metadata": {},
   "outputs": [
    {
     "data": {
      "text/plain": [
       "0.7364620938628159"
      ]
     },
     "execution_count": 97,
     "metadata": {},
     "output_type": "execute_result"
    }
   ],
   "source": [
    "((np.array(scores)<t).astype(int)==gt).mean()"
   ]
  },
  {
   "cell_type": "code",
   "execution_count": 88,
   "metadata": {},
   "outputs": [
    {
     "data": {
      "text/plain": [
       "0.1222553"
      ]
     },
     "execution_count": 88,
     "metadata": {},
     "output_type": "execute_result"
    }
   ],
   "source": [
    "t"
   ]
  },
  {
   "cell_type": "code",
   "execution_count": 60,
   "metadata": {},
   "outputs": [
    {
     "name": "stdout",
     "output_type": "stream",
     "text": [
      "False\n"
     ]
    },
    {
     "data": {
      "text/plain": [
       "<matplotlib.image.AxesImage at 0x7fc07004bb70>"
      ]
     },
     "execution_count": 60,
     "metadata": {},
     "output_type": "execute_result"
    },
    {
     "data": {
      "image/png": "[encoded data removed]",
      "text/plain": [
       "<Figure size 432x288 with 2 Axes>"
      ]
     },
     "metadata": {
      "needs_background": "light"
     },
     "output_type": "display_data"
    }
   ],
   "source": [
    "sample = twins_dataset[532]\n",
    "fig, axs = plt.subplots(1,2)\n",
    "print(sample['is_same'])\n",
    "axs[0].imshow(sample['img1'].numpy().transpose(1,2,0))\n",
    "axs[1].imshow(sample['img2'].numpy().transpose(1,2,0))"
   ]
  },
  {
   "cell_type": "code",
   "execution_count": 32,
   "metadata": {},
   "outputs": [],
   "source": [
    "from tqdm import tqdm_notebook as tqdm"
   ]
  },
  {
   "cell_type": "code",
   "execution_count": 39,
   "metadata": {
    "scrolled": true
   },
   "outputs": [
    {
     "data": {
      "text/plain": [
       "DataParallel(\n",
       "  (module): DataParallel(\n",
       "    (module): ResNetAngular(\n",
       "      (model): ResNet(\n",
       "        (conv1): Conv2d(3, 64, kernel_size=(7, 7), stride=(2, 2), padding=(3, 3), bias=False)\n",
       "        (bn1): BatchNorm2d(64, eps=1e-05, momentum=0.1, affine=True, track_running_stats=True)\n",
       "        (relu): ReLU(inplace)\n",
       "        (maxpool): MaxPool2d(kernel_size=3, stride=2, padding=1, dilation=1, ceil_mode=False)\n",
       "        (layer1): Sequential(\n",
       "          (0): BasicBlock(\n",
       "            (conv1): Conv2d(64, 64, kernel_size=(3, 3), stride=(1, 1), padding=(1, 1), bias=False)\n",
       "            (bn1): BatchNorm2d(64, eps=1e-05, momentum=0.1, affine=True, track_running_stats=True)\n",
       "            (relu): ReLU(inplace)\n",
       "            (conv2): Conv2d(64, 64, kernel_size=(3, 3), stride=(1, 1), padding=(1, 1), bias=False)\n",
       "            (bn2): BatchNorm2d(64, eps=1e-05, momentum=0.1, affine=True, track_running_stats=True)\n",
       "          )\n",
       "          (1): BasicBlock(\n",
       "            (conv1): Conv2d(64, 64, kernel_size=(3, 3), stride=(1, 1), padding=(1, 1), bias=False)\n",
       "            (bn1): BatchNorm2d(64, eps=1e-05, momentum=0.1, affine=True, track_running_stats=True)\n",
       "            (relu): ReLU(inplace)\n",
       "            (conv2): Conv2d(64, 64, kernel_size=(3, 3), stride=(1, 1), padding=(1, 1), bias=False)\n",
       "            (bn2): BatchNorm2d(64, eps=1e-05, momentum=0.1, affine=True, track_running_stats=True)\n",
       "          )\n",
       "        )\n",
       "        (layer2): Sequential(\n",
       "          (0): BasicBlock(\n",
       "            (conv1): Conv2d(64, 128, kernel_size=(3, 3), stride=(2, 2), padding=(1, 1), bias=False)\n",
       "            (bn1): BatchNorm2d(128, eps=1e-05, momentum=0.1, affine=True, track_running_stats=True)\n",
       "            (relu): ReLU(inplace)\n",
       "            (conv2): Conv2d(128, 128, kernel_size=(3, 3), stride=(1, 1), padding=(1, 1), bias=False)\n",
       "            (bn2): BatchNorm2d(128, eps=1e-05, momentum=0.1, affine=True, track_running_stats=True)\n",
       "            (downsample): Sequential(\n",
       "              (0): Conv2d(64, 128, kernel_size=(1, 1), stride=(2, 2), bias=False)\n",
       "              (1): BatchNorm2d(128, eps=1e-05, momentum=0.1, affine=True, track_running_stats=True)\n",
       "            )\n",
       "          )\n",
       "          (1): BasicBlock(\n",
       "            (conv1): Conv2d(128, 128, kernel_size=(3, 3), stride=(1, 1), padding=(1, 1), bias=False)\n",
       "            (bn1): BatchNorm2d(128, eps=1e-05, momentum=0.1, affine=True, track_running_stats=True)\n",
       "            (relu): ReLU(inplace)\n",
       "            (conv2): Conv2d(128, 128, kernel_size=(3, 3), stride=(1, 1), padding=(1, 1), bias=False)\n",
       "            (bn2): BatchNorm2d(128, eps=1e-05, momentum=0.1, affine=True, track_running_stats=True)\n",
       "          )\n",
       "        )\n",
       "        (layer3): Sequential(\n",
       "          (0): BasicBlock(\n",
       "            (conv1): Conv2d(128, 256, kernel_size=(3, 3), stride=(2, 2), padding=(1, 1), bias=False)\n",
       "            (bn1): BatchNorm2d(256, eps=1e-05, momentum=0.1, affine=True, track_running_stats=True)\n",
       "            (relu): ReLU(inplace)\n",
       "            (conv2): Conv2d(256, 256, kernel_size=(3, 3), stride=(1, 1), padding=(1, 1), bias=False)\n",
       "            (bn2): BatchNorm2d(256, eps=1e-05, momentum=0.1, affine=True, track_running_stats=True)\n",
       "            (downsample): Sequential(\n",
       "              (0): Conv2d(128, 256, kernel_size=(1, 1), stride=(2, 2), bias=False)\n",
       "              (1): BatchNorm2d(256, eps=1e-05, momentum=0.1, affine=True, track_running_stats=True)\n",
       "            )\n",
       "          )\n",
       "          (1): BasicBlock(\n",
       "            (conv1): Conv2d(256, 256, kernel_size=(3, 3), stride=(1, 1), padding=(1, 1), bias=False)\n",
       "            (bn1): BatchNorm2d(256, eps=1e-05, momentum=0.1, affine=True, track_running_stats=True)\n",
       "            (relu): ReLU(inplace)\n",
       "            (conv2): Conv2d(256, 256, kernel_size=(3, 3), stride=(1, 1), padding=(1, 1), bias=False)\n",
       "            (bn2): BatchNorm2d(256, eps=1e-05, momentum=0.1, affine=True, track_running_stats=True)\n",
       "          )\n",
       "        )\n",
       "        (layer4): Sequential(\n",
       "          (0): BasicBlock(\n",
       "            (conv1): Conv2d(256, 512, kernel_size=(3, 3), stride=(2, 2), padding=(1, 1), bias=False)\n",
       "            (bn1): BatchNorm2d(512, eps=1e-05, momentum=0.1, affine=True, track_running_stats=True)\n",
       "            (relu): ReLU(inplace)\n",
       "            (conv2): Conv2d(512, 512, kernel_size=(3, 3), stride=(1, 1), padding=(1, 1), bias=False)\n",
       "            (bn2): BatchNorm2d(512, eps=1e-05, momentum=0.1, affine=True, track_running_stats=True)\n",
       "            (downsample): Sequential(\n",
       "              (0): Conv2d(256, 512, kernel_size=(1, 1), stride=(2, 2), bias=False)\n",
       "              (1): BatchNorm2d(512, eps=1e-05, momentum=0.1, affine=True, track_running_stats=True)\n",
       "            )\n",
       "          )\n",
       "          (1): BasicBlock(\n",
       "            (conv1): Conv2d(512, 512, kernel_size=(3, 3), stride=(1, 1), padding=(1, 1), bias=False)\n",
       "            (bn1): BatchNorm2d(512, eps=1e-05, momentum=0.1, affine=True, track_running_stats=True)\n",
       "            (relu): ReLU(inplace)\n",
       "            (conv2): Conv2d(512, 512, kernel_size=(3, 3), stride=(1, 1), padding=(1, 1), bias=False)\n",
       "            (bn2): BatchNorm2d(512, eps=1e-05, momentum=0.1, affine=True, track_running_stats=True)\n",
       "          )\n",
       "        )\n",
       "        (avgpool): AdaptiveAvgPool2d(output_size=1)\n",
       "        (fc): Identity()\n",
       "      )\n",
       "      (dropout): Dropout(p=0.1)\n",
       "      (fc_angular): AngleSimpleLinear()\n",
       "    )\n",
       "  )\n",
       ")"
      ]
     },
     "execution_count": 39,
     "metadata": {},
     "output_type": "execute_result"
    }
   ],
   "source": [
    "model.eval()"
   ]
  },
  {
   "cell_type": "code",
   "execution_count": 40,
   "metadata": {},
   "outputs": [],
   "source": [
    "def get_embeddings(dataset, model, features_dim=512):\n",
    "    labels = []\n",
    "    embeddings = np.zeros((len(dataset), 2*features_dim))\n",
    "    keypoints = np.zeros((len(dataset), 4*68))\n",
    "    for i, sample in tqdm(enumerate(dataset), total = len(dataset)):\n",
    "        img1 = sample['img1'][None, :].cuda()\n",
    "        img2 = sample['img2'][None, :].cuda()\n",
    "        labels.append(int(sample['is_same']))\n",
    "        \n",
    "        keypoints[i, :] = np.concatenate([sample['kp1'].flatten(), sample['kp2'].flatten()])\n",
    "        with torch.no_grad():\n",
    "            emb1 = model(img1)\n",
    "            emb2 = model(img2)\n",
    "            embeddings[i,:] = torch.cat([emb1, emb2],-1).detach().cpu().numpy()\n",
    "    return embeddings, keypoints, labels"
   ]
  },
  {
   "cell_type": "code",
   "execution_count": 41,
   "metadata": {},
   "outputs": [],
   "source": [
    "views = pd.read_csv(os.path.join(DF_ROOT, 'df', 'views.csv'), index_col=0)\n",
    "views.index = views.index.astype(str)\n",
    "views.filename = views.filename.apply(eval)\n",
    "\n",
    "transform = Compose([\n",
    "#     CenterCrop(crop, crop),\n",
    "                     Resize(*input_size)],\n",
    "#                      Normalize(mean, std)], \n",
    "                   to_tensor=ToTensor())#, additional_targets={'image1': 'image'})\n",
    "\n",
    "# pairs including 50% of same identities\n",
    "pairs = pd.read_csv(os.path.join(DF_ROOT, 'df', 'pairs_train_fedor.csv'))\n",
    "pairs['id_1'] = pairs['id_1'].astype(int)\n",
    "pairs['id_2'] = pairs['id_2'].astype(int)\n",
    "\n",
    "train_dataset = TwinPairsDataset(TWINS_ROOT, pairs, views, transform=transform, keypoints=True)#, landmarks=True)"
   ]
  },
  {
   "cell_type": "code",
   "execution_count": 42,
   "metadata": {},
   "outputs": [
    {
     "name": "stdout",
     "output_type": "stream",
     "text": [
      "277\n"
     ]
    }
   ],
   "source": [
    "views = pd.read_csv(os.path.join(DF_ROOT, 'df', 'views.csv'), index_col=0)\n",
    "views.index = views.index.astype(str)\n",
    "views.filename = views.filename.apply(eval)\n",
    "\n",
    "# pairs including 50% of same identities\n",
    "pairs = pd.read_csv(os.path.join(DF_ROOT, 'df', 'pairs_test_fedor.csv'))\n",
    "pairs['id_1'] = pairs['id_1'].astype(int)\n",
    "pairs['id_2'] = pairs['id_2'].astype(int)\n",
    "\n",
    "lfw = TwinPairsDataset(TWINS_ROOT, pairs, views, transform=transform, keypoints=True)#, landmarks=True)\n",
    "print(len(lfw))"
   ]
  },
  {
   "cell_type": "code",
   "execution_count": 43,
   "metadata": {},
   "outputs": [
    {
     "data": {
      "application/vnd.jupyter.widget-view+json": {
       "model_id": "a87d49572c444fdb8b6c13832c5520df",
       "version_major": 2,
       "version_minor": 0
      },
      "text/plain": [
       "HBox(children=(IntProgress(value=0, max=573), HTML(value='')))"
      ]
     },
     "metadata": {},
     "output_type": "display_data"
    },
    {
     "name": "stdout",
     "output_type": "stream",
     "text": [
      "\n"
     ]
    }
   ],
   "source": [
    "train_embeddings, train_keypoints, train_labels = get_embeddings(train_dataset, model)"
   ]
  },
  {
   "cell_type": "code",
   "execution_count": 44,
   "metadata": {},
   "outputs": [
    {
     "data": {
      "text/plain": [
       "((573, 1024), (573, 272), 573, [0, 0, 0, 0, 0])"
      ]
     },
     "execution_count": 44,
     "metadata": {},
     "output_type": "execute_result"
    }
   ],
   "source": [
    "train_embeddings.shape, train_keypoints.shape, len(train_labels), train_labels[:5]"
   ]
  },
  {
   "cell_type": "code",
   "execution_count": 45,
   "metadata": {},
   "outputs": [
    {
     "data": {
      "application/vnd.jupyter.widget-view+json": {
       "model_id": "63a740fc2fef478d875e95434954dcec",
       "version_major": 2,
       "version_minor": 0
      },
      "text/plain": [
       "HBox(children=(IntProgress(value=0, max=277), HTML(value='')))"
      ]
     },
     "metadata": {},
     "output_type": "display_data"
    },
    {
     "name": "stdout",
     "output_type": "stream",
     "text": [
      "\n"
     ]
    }
   ],
   "source": [
    "test_embeddings, test_keypoints, test_labels = get_embeddings(lfw, model)"
   ]
  },
  {
   "cell_type": "code",
   "execution_count": 46,
   "metadata": {},
   "outputs": [
    {
     "data": {
      "text/plain": [
       "((277, 1024), (277, 272), 277, [1, 1, 1, 1, 1])"
      ]
     },
     "execution_count": 46,
     "metadata": {},
     "output_type": "execute_result"
    }
   ],
   "source": [
    "test_embeddings.shape, test_keypoints.shape, len(test_labels), test_labels[-5:]"
   ]
  },
  {
   "cell_type": "code",
   "execution_count": 47,
   "metadata": {},
   "outputs": [],
   "source": [
    "from sklearn.svm import SVC\n",
    "from sklearn.metrics import roc_auc_score\n",
    "from sklearn.metrics import accuracy_score,roc_auc_score,recall_score,precision_score"
   ]
  },
  {
   "cell_type": "code",
   "execution_count": 40,
   "metadata": {},
   "outputs": [],
   "source": [
    "X_train = np.concatenate([train_embeddings, train_keypoints],-1)\n",
    "X_test = np.concatenate([test_embeddings, test_keypoints],-1)"
   ]
  },
  {
   "cell_type": "code",
   "execution_count": 49,
   "metadata": {},
   "outputs": [
    {
     "name": "stdout",
     "output_type": "stream",
     "text": [
      "0.5304635067114093\n"
     ]
    },
    {
     "data": {
      "text/plain": [
       "0.4584837545126354"
      ]
     },
     "execution_count": 49,
     "metadata": {},
     "output_type": "execute_result"
    }
   ],
   "source": [
    "svc = SVC(kernel='linear', C=1, probability=True)\n",
    "svc.fit(train_embeddings, train_labels)\n",
    "preds = svc.predict_proba(test_embeddings)\n",
    "print(roc_auc_score(test_labels, preds[:,1]))\n",
    "\n",
    "svc.score(test_embeddings, test_labels)"
   ]
  },
  {
   "cell_type": "code",
   "execution_count": 50,
   "metadata": {},
   "outputs": [],
   "source": [
    "import lightgbm as lgb"
   ]
  },
  {
   "cell_type": "code",
   "execution_count": 51,
   "metadata": {},
   "outputs": [],
   "source": [
    "model = lgb.LGBMClassifier(max_depth=12, learning_rate=0.01)"
   ]
  },
  {
   "cell_type": "code",
   "execution_count": 52,
   "metadata": {},
   "outputs": [
    {
     "name": "stdout",
     "output_type": "stream",
     "text": [
      "[1]\tvalid_0's binary_logloss: 0.693622\tvalid_0's auc: 0.565017\n",
      "[2]\tvalid_0's binary_logloss: 0.694081\tvalid_0's auc: 0.513239\n",
      "[3]\tvalid_0's binary_logloss: 0.694163\tvalid_0's auc: 0.505899\n",
      "[4]\tvalid_0's binary_logloss: 0.694267\tvalid_0's auc: 0.502045\n",
      "[5]\tvalid_0's binary_logloss: 0.693676\tvalid_0's auc: 0.532194\n",
      "[6]\tvalid_0's binary_logloss: 0.694268\tvalid_0's auc: 0.508127\n",
      "[7]\tvalid_0's binary_logloss: 0.694571\tvalid_0's auc: 0.495805\n",
      "[8]\tvalid_0's binary_logloss: 0.694739\tvalid_0's auc: 0.491742\n",
      "[9]\tvalid_0's binary_logloss: 0.695372\tvalid_0's auc: 0.477795\n",
      "[10]\tvalid_0's binary_logloss: 0.695575\tvalid_0's auc: 0.47554\n",
      "[11]\tvalid_0's binary_logloss: 0.695813\tvalid_0's auc: 0.476169\n",
      "[12]\tvalid_0's binary_logloss: 0.6961\tvalid_0's auc: 0.470795\n",
      "[13]\tvalid_0's binary_logloss: 0.696371\tvalid_0's auc: 0.471109\n",
      "[14]\tvalid_0's binary_logloss: 0.696117\tvalid_0's auc: 0.474308\n",
      "[15]\tvalid_0's binary_logloss: 0.69597\tvalid_0's auc: 0.474255\n",
      "[16]\tvalid_0's binary_logloss: 0.696268\tvalid_0's auc: 0.477978\n",
      "[17]\tvalid_0's binary_logloss: 0.696087\tvalid_0's auc: 0.478712\n",
      "[18]\tvalid_0's binary_logloss: 0.695964\tvalid_0's auc: 0.48233\n",
      "[19]\tvalid_0's binary_logloss: 0.695926\tvalid_0's auc: 0.482383\n",
      "[20]\tvalid_0's binary_logloss: 0.695951\tvalid_0's auc: 0.48275\n",
      "[21]\tvalid_0's binary_logloss: 0.696345\tvalid_0's auc: 0.48212\n",
      "[22]\tvalid_0's binary_logloss: 0.696655\tvalid_0's auc: 0.479027\n",
      "[23]\tvalid_0's binary_logloss: 0.696147\tvalid_0's auc: 0.483641\n",
      "[24]\tvalid_0's binary_logloss: 0.695823\tvalid_0's auc: 0.485948\n",
      "[25]\tvalid_0's binary_logloss: 0.69523\tvalid_0's auc: 0.494232\n",
      "[26]\tvalid_0's binary_logloss: 0.695536\tvalid_0's auc: 0.490877\n",
      "[27]\tvalid_0's binary_logloss: 0.695389\tvalid_0's auc: 0.493918\n",
      "[28]\tvalid_0's binary_logloss: 0.695355\tvalid_0's auc: 0.494495\n",
      "[29]\tvalid_0's binary_logloss: 0.695568\tvalid_0's auc: 0.494862\n",
      "[30]\tvalid_0's binary_logloss: 0.695732\tvalid_0's auc: 0.495858\n",
      "[31]\tvalid_0's binary_logloss: 0.695877\tvalid_0's auc: 0.495071\n",
      "[32]\tvalid_0's binary_logloss: 0.695613\tvalid_0's auc: 0.497955\n",
      "[33]\tvalid_0's binary_logloss: 0.695899\tvalid_0's auc: 0.494809\n",
      "[34]\tvalid_0's binary_logloss: 0.696087\tvalid_0's auc: 0.496644\n",
      "[35]\tvalid_0's binary_logloss: 0.696298\tvalid_0's auc: 0.495648\n",
      "[36]\tvalid_0's binary_logloss: 0.696001\tvalid_0's auc: 0.497378\n",
      "[37]\tvalid_0's binary_logloss: 0.695809\tvalid_0's auc: 0.497011\n",
      "[38]\tvalid_0's binary_logloss: 0.696097\tvalid_0's auc: 0.495071\n",
      "[39]\tvalid_0's binary_logloss: 0.696062\tvalid_0's auc: 0.49633\n",
      "[40]\tvalid_0's binary_logloss: 0.695918\tvalid_0's auc: 0.496906\n",
      "[41]\tvalid_0's binary_logloss: 0.696166\tvalid_0's auc: 0.498375\n",
      "[42]\tvalid_0's binary_logloss: 0.696299\tvalid_0's auc: 0.499423\n",
      "[43]\tvalid_0's binary_logloss: 0.696533\tvalid_0's auc: 0.500472\n",
      "[44]\tvalid_0's binary_logloss: 0.69635\tvalid_0's auc: 0.502517\n",
      "[45]\tvalid_0's binary_logloss: 0.695642\tvalid_0's auc: 0.505663\n",
      "[46]\tvalid_0's binary_logloss: 0.695218\tvalid_0's auc: 0.508704\n",
      "[47]\tvalid_0's binary_logloss: 0.694983\tvalid_0's auc: 0.512584\n",
      "[48]\tvalid_0's binary_logloss: 0.694654\tvalid_0's auc: 0.514052\n",
      "[49]\tvalid_0's binary_logloss: 0.694621\tvalid_0's auc: 0.514786\n",
      "[50]\tvalid_0's binary_logloss: 0.694772\tvalid_0's auc: 0.515258\n",
      "[51]\tvalid_0's binary_logloss: 0.694943\tvalid_0's auc: 0.512322\n",
      "[52]\tvalid_0's binary_logloss: 0.694784\tvalid_0's auc: 0.512322\n",
      "[53]\tvalid_0's binary_logloss: 0.694316\tvalid_0's auc: 0.516044\n",
      "[54]\tvalid_0's binary_logloss: 0.69393\tvalid_0's auc: 0.518089\n",
      "[55]\tvalid_0's binary_logloss: 0.693621\tvalid_0's auc: 0.517775\n",
      "[56]\tvalid_0's binary_logloss: 0.694161\tvalid_0's auc: 0.512898\n",
      "[57]\tvalid_0's binary_logloss: 0.694172\tvalid_0's auc: 0.514681\n",
      "[58]\tvalid_0's binary_logloss: 0.694135\tvalid_0's auc: 0.516674\n",
      "[59]\tvalid_0's binary_logloss: 0.694074\tvalid_0's auc: 0.516464\n",
      "[60]\tvalid_0's binary_logloss: 0.694034\tvalid_0's auc: 0.518194\n",
      "[61]\tvalid_0's binary_logloss: 0.693739\tvalid_0's auc: 0.521393\n",
      "[62]\tvalid_0's binary_logloss: 0.693551\tvalid_0's auc: 0.523018\n",
      "[63]\tvalid_0's binary_logloss: 0.693126\tvalid_0's auc: 0.524172\n",
      "[64]\tvalid_0's binary_logloss: 0.693206\tvalid_0's auc: 0.527265\n",
      "[65]\tvalid_0's binary_logloss: 0.693284\tvalid_0's auc: 0.526793\n",
      "[66]\tvalid_0's binary_logloss: 0.692972\tvalid_0's auc: 0.528471\n",
      "[67]\tvalid_0's binary_logloss: 0.69292\tvalid_0's auc: 0.529572\n",
      "[68]\tvalid_0's binary_logloss: 0.69274\tvalid_0's auc: 0.53146\n",
      "[69]\tvalid_0's binary_logloss: 0.693103\tvalid_0's auc: 0.52737\n",
      "[70]\tvalid_0's binary_logloss: 0.692845\tvalid_0's auc: 0.529258\n",
      "[71]\tvalid_0's binary_logloss: 0.692747\tvalid_0's auc: 0.529415\n",
      "[72]\tvalid_0's binary_logloss: 0.693081\tvalid_0's auc: 0.52716\n",
      "[73]\tvalid_0's binary_logloss: 0.693196\tvalid_0's auc: 0.527265\n",
      "[74]\tvalid_0's binary_logloss: 0.693214\tvalid_0's auc: 0.529992\n",
      "[75]\tvalid_0's binary_logloss: 0.692652\tvalid_0's auc: 0.533138\n",
      "[76]\tvalid_0's binary_logloss: 0.692344\tvalid_0's auc: 0.535445\n",
      "[77]\tvalid_0's binary_logloss: 0.692803\tvalid_0's auc: 0.532508\n",
      "[78]\tvalid_0's binary_logloss: 0.692818\tvalid_0's auc: 0.531617\n",
      "[79]\tvalid_0's binary_logloss: 0.692708\tvalid_0's auc: 0.532036\n",
      "[80]\tvalid_0's binary_logloss: 0.692294\tvalid_0's auc: 0.534448\n",
      "[81]\tvalid_0's binary_logloss: 0.692663\tvalid_0's auc: 0.532036\n",
      "[82]\tvalid_0's binary_logloss: 0.692742\tvalid_0's auc: 0.531984\n",
      "[83]\tvalid_0's binary_logloss: 0.692209\tvalid_0's auc: 0.534973\n",
      "[84]\tvalid_0's binary_logloss: 0.692067\tvalid_0's auc: 0.536703\n",
      "[85]\tvalid_0's binary_logloss: 0.692453\tvalid_0's auc: 0.535078\n",
      "[86]\tvalid_0's binary_logloss: 0.692473\tvalid_0's auc: 0.535445\n",
      "[87]\tvalid_0's binary_logloss: 0.692408\tvalid_0's auc: 0.536179\n",
      "[88]\tvalid_0's binary_logloss: 0.692436\tvalid_0's auc: 0.535497\n",
      "[89]\tvalid_0's binary_logloss: 0.692501\tvalid_0's auc: 0.535182\n",
      "[90]\tvalid_0's binary_logloss: 0.692299\tvalid_0's auc: 0.537122\n",
      "[91]\tvalid_0's binary_logloss: 0.691716\tvalid_0's auc: 0.540059\n",
      "[92]\tvalid_0's binary_logloss: 0.691519\tvalid_0's auc: 0.541317\n",
      "[93]\tvalid_0's binary_logloss: 0.691399\tvalid_0's auc: 0.542366\n",
      "[94]\tvalid_0's binary_logloss: 0.691687\tvalid_0's auc: 0.540793\n",
      "[95]\tvalid_0's binary_logloss: 0.691261\tvalid_0's auc: 0.543834\n",
      "[96]\tvalid_0's binary_logloss: 0.690892\tvalid_0's auc: 0.545669\n",
      "[97]\tvalid_0's binary_logloss: 0.690845\tvalid_0's auc: 0.542995\n",
      "[98]\tvalid_0's binary_logloss: 0.690932\tvalid_0's auc: 0.5431\n",
      "[99]\tvalid_0's binary_logloss: 0.690774\tvalid_0's auc: 0.542733\n",
      "[100]\tvalid_0's binary_logloss: 0.690842\tvalid_0's auc: 0.543572\n"
     ]
    },
    {
     "data": {
      "text/plain": [
       "LGBMClassifier(boosting_type='gbdt', class_weight=None, colsample_bytree=1.0,\n",
       "        importance_type='split', learning_rate=0.01, max_depth=12,\n",
       "        min_child_samples=20, min_child_weight=0.001, min_split_gain=0.0,\n",
       "        n_estimators=100, n_jobs=-1, num_leaves=31, objective=None,\n",
       "        random_state=None, reg_alpha=0.0, reg_lambda=0.0, silent=True,\n",
       "        subsample=1.0, subsample_for_bin=200000, subsample_freq=0)"
      ]
     },
     "execution_count": 52,
     "metadata": {},
     "output_type": "execute_result"
    }
   ],
   "source": [
    "model.fit(train_embeddings, train_labels, eval_set = (test_embeddings, test_labels), eval_metric='auc')"
   ]
  },
  {
   "cell_type": "code",
   "execution_count": null,
   "metadata": {},
   "outputs": [],
   "source": []
  }
 ],
 "metadata": {
  "kernelspec": {
   "display_name": "Python 3",
   "language": "python",
   "name": "python3"
  },
  "language_info": {
   "codemirror_mode": {
    "name": "ipython",
    "version": 3
   },
   "file_extension": ".py",
   "mimetype": "text/x-python",
   "name": "python",
   "nbconvert_exporter": "python",
   "pygments_lexer": "ipython3",
   "version": "3.6.5"
  }
 },
 "nbformat": 4,
 "nbformat_minor": 2
}
